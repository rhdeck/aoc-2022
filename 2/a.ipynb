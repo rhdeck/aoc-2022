{
 "cells": [
  {
   "cell_type": "markdown",
   "metadata": {},
   "source": [
    "## Part 1: Load the file"
   ]
  },
  {
   "cell_type": "code",
   "execution_count": null,
   "metadata": {},
   "outputs": [],
   "source": [
    "sourcefile = open(\"./a.txt\")\n",
    "sourcetext = sourcefile.read()\n",
    "lines = [line.split() for line in sourcetext.splitlines()]"
   ]
  },
  {
   "cell_type": "code",
   "execution_count": null,
   "metadata": {},
   "outputs": [],
   "source": [
    "lines"
   ]
  },
  {
   "cell_type": "markdown",
   "metadata": {},
   "source": [
    "## Part 2: Figure out how to calculate a winner"
   ]
  },
  {
   "cell_type": "code",
   "execution_count": null,
   "metadata": {},
   "outputs": [],
   "source": [
    "\n",
    "\n",
    "thems = {'A': 0, 'B': 1, 'C': 2}\n",
    "mes = {'X': 0, 'Y': 1, 'Z': 2}\n",
    "\n",
    "def winner_score(them, me):\n",
    "    if(thems[them] == mes[me]):\n",
    "        return 3;\n",
    "    elif((mes[me] + 1) % 3 == thems[them]):\n",
    "        return 0\n",
    "    else:\n",
    "        return 6\n",
    "def score(them, me):\n",
    "    return winner_score(them, me) + mes[me]+1\n",
    "\n"
   ]
  },
  {
   "cell_type": "markdown",
   "metadata": {},
   "source": [
    "## Part 3: Sum for Part 1"
   ]
  },
  {
   "cell_type": "code",
   "execution_count": null,
   "metadata": {},
   "outputs": [],
   "source": [
    "scores = [score(x,y) for x, y in lines]\n",
    "part_1 = sum(scores)\n",
    "part_1"
   ]
  },
  {
   "cell_type": "markdown",
   "metadata": {},
   "source": [
    "## Part 4: Get directed move for part 2"
   ]
  },
  {
   "cell_type": "code",
   "execution_count": null,
   "metadata": {},
   "outputs": [],
   "source": [
    "moves = [\"X\", \"Y\", \"Z\"]\n",
    "def directed_move(them, me): \n",
    "    if(me == \"Z\"):\n",
    "        #I must lose\n",
    "        return moves[(thems[them] +1)%3]\n",
    "    elif(me == \"Y\"):\n",
    "        return moves[thems[them]]\n",
    "    elif(me == \"X\"):\n",
    "        return moves[(thems[them] -1)%3]\n",
    "\n",
    "directed_move(\"A\", \"Z\")\n",
    "\n",
    "scores = [score(x, directed_move(x,y)) for x, y in lines]\n",
    "part_2 = sum(scores)\n",
    "part_2"
   ]
  }
 ],
 "metadata": {
  "kernelspec": {
   "display_name": "Python 3.8.9 64-bit",
   "language": "python",
   "name": "python3"
  },
  "language_info": {
   "codemirror_mode": {
    "name": "ipython",
    "version": 3
   },
   "file_extension": ".py",
   "mimetype": "text/x-python",
   "name": "python",
   "nbconvert_exporter": "python",
   "pygments_lexer": "ipython3",
   "version": "3.9.6"
  },
  "orig_nbformat": 4,
  "vscode": {
   "interpreter": {
    "hash": "31f2aee4e71d21fbe5cf8b01ff0e069b9275f58929596ceb00d14d90e3e16cd6"
   }
  }
 },
 "nbformat": 4,
 "nbformat_minor": 2
}
