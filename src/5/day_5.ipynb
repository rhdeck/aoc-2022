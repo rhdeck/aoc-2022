{
 "cells": [
  {
   "cell_type": "markdown",
   "metadata": {},
   "source": [
    "Notes On process\n",
    "\n",
    "1. Load rthe data.\n",
    "2. Separate data into stack lines and commands using double-line break\n",
    "3. Parse stack lines into stacks (turn on their side)\n",
    "   1. Reverse stack lines\n",
    "   2. FOr first line:\n",
    "      1. Look at positions of indices\n",
    "      2. Build dictionary \"stacks\" using index as key and value of empty list\n",
    "      3. Make dictionary \"positions\" using index as key and value of position in string\n",
    "      4. Make array \"keys\" built on each position\n",
    "   3. For each following lines:\n",
    "      1. Iterate over \"keys\", for each:\n",
    "         1. Get the character at value of \"positions\"\n",
    "         2. push to the end of stacks at the path of the key\n",
    "4. Split commands into lines\n",
    "5. For each command line\n",
    "   1. parse to words\n",
    "   2. slice last X of data from \"stacks\" at key Y, and then concat them to \"stacks\" at key Z\n",
    "6. Iterating over keys, pull the last value from each \"stacks\", and join them\n"
   ]
  },
  {
   "cell_type": "code",
   "execution_count": 122,
   "metadata": {},
   "outputs": [],
   "source": [
    "test = \"\"\"    [D]    \n",
    "[N] [C]    \n",
    "[Z] [M] [P]\n",
    " 1   2   3 \n",
    "\n",
    "move 1 from 2 to 1\n",
    "move 3 from 1 to 3\n",
    "move 2 from 2 to 1\n",
    "move 1 from 1 to 2\"\"\"\n",
    "\n",
    "source = test"
   ]
  },
  {
   "cell_type": "code",
   "execution_count": 8,
   "metadata": {},
   "outputs": [],
   "source": [
    "#source = open(\"./day_5.txt\").read()"
   ]
  },
  {
   "cell_type": "code",
   "execution_count": 123,
   "metadata": {},
   "outputs": [
    {
     "data": {
      "text/plain": [
       "['    [D]    ', '[N] [C]    ', '[Z] [M] [P]', ' 1   2   3 ']"
      ]
     },
     "execution_count": 123,
     "metadata": {},
     "output_type": "execute_result"
    }
   ],
   "source": [
    "stacklinetext, instructiontext = source.split(\"\\n\\n\")\n",
    "stacklinetext.splitlines()"
   ]
  },
  {
   "cell_type": "code",
   "execution_count": null,
   "metadata": {},
   "outputs": [],
   "source": []
  },
  {
   "cell_type": "code",
   "execution_count": 128,
   "metadata": {},
   "outputs": [
    {
     "data": {
      "text/plain": [
       "{1: ['Z', 'N'], 2: ['M', 'C', 'D'], 3: ['P']}"
      ]
     },
     "execution_count": 128,
     "metadata": {},
     "output_type": "execute_result"
    }
   ],
   "source": [
    "stacks = {}\n",
    "[stacks.update({int(l[0]): l[1:]}) for l in [list(''.join(list(chars)[::-1]).strip()) for chars in zip(*stacklinetext.splitlines()) if chars[-1] != ' ']]\n",
    "stacks"
   ]
  },
  {
   "cell_type": "code",
   "execution_count": 127,
   "metadata": {},
   "outputs": [],
   "source": [
    "def execute(num, from_key, to_key):\n",
    "    print(f\"Starting position { stacks}\")\n",
    "    print(f\"move {num} from {from_key} to {to_key}\")\n",
    "    print(f\"from: {stacks[from_key]}\")\n",
    "    stacks[to_key] = stacks[to_key] + list(stacks[from_key][-1 * num:])[::-1]\n",
    "    stacks[from_key] = stacks[from_key][:-1 * num]\n"
   ]
  },
  {
   "cell_type": "code",
   "execution_count": 129,
   "metadata": {},
   "outputs": [
    {
     "name": "stdout",
     "output_type": "stream",
     "text": [
      "Starting position {1: ['Z', 'N'], 2: ['M', 'C', 'D'], 3: ['P']}\n",
      "move 1 from 2 to 1\n",
      "from: ['M', 'C', 'D']\n",
      "Starting position {1: ['Z', 'N', 'D'], 2: ['M', 'C'], 3: ['P']}\n",
      "move 3 from 1 to 3\n",
      "from: ['Z', 'N', 'D']\n",
      "Starting position {1: [], 2: ['M', 'C'], 3: ['P', 'D', 'N', 'Z']}\n",
      "move 2 from 2 to 1\n",
      "from: ['M', 'C']\n",
      "Starting position {1: ['C', 'M'], 2: [], 3: ['P', 'D', 'N', 'Z']}\n",
      "move 1 from 1 to 2\n",
      "from: ['C', 'M']\n"
     ]
    },
    {
     "data": {
      "text/plain": [
       "{1: ['C'], 2: ['M'], 3: ['P', 'D', 'N', 'Z']}"
      ]
     },
     "execution_count": 129,
     "metadata": {},
     "output_type": "execute_result"
    }
   ],
   "source": [
    "instructions = instructiontext.splitlines()\n",
    "numbers = [execute(*[int(word) for word in line.split(\" \") if word.isnumeric()]) for line in instructions]\n",
    "stacks"
   ]
  },
  {
   "cell_type": "code",
   "execution_count": 130,
   "metadata": {},
   "outputs": [
    {
     "data": {
      "text/plain": [
       "'CMZ'"
      ]
     },
     "execution_count": 130,
     "metadata": {},
     "output_type": "execute_result"
    }
   ],
   "source": [
    "last = ''.join([stacks[key][-1] for key in stacks.keys()])\n",
    "last"
   ]
  }
 ],
 "metadata": {
  "kernelspec": {
   "display_name": "Python 3.10.6 64-bit",
   "language": "python",
   "name": "python3"
  },
  "language_info": {
   "codemirror_mode": {
    "name": "ipython",
    "version": 3
   },
   "file_extension": ".py",
   "mimetype": "text/x-python",
   "name": "python",
   "nbconvert_exporter": "python",
   "pygments_lexer": "ipython3",
   "version": "3.10.6"
  },
  "orig_nbformat": 4,
  "vscode": {
   "interpreter": {
    "hash": "b0fa6594d8f4cbf19f97940f81e996739fb7646882a419484c72d19e05852a7e"
   }
  }
 },
 "nbformat": 4,
 "nbformat_minor": 2
}
