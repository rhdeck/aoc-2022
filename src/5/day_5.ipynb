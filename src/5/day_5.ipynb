{
 "cells": [
  {
   "cell_type": "markdown",
   "metadata": {},
   "source": [
    "## Notes On process\n",
    "\n",
    "1. Load the data.\n",
    "2. Separate data into stack lines and commands using double-line break\n",
    "3. Parse stack lines into stacks (turn on their side)\n",
    "   1. Use zip to transpose the stack and reverse each line\n",
    "   2. Update the stack dictionary using the first value (number) as a key\n",
    "4. Split commands into lines and for each command line\n",
    "   1. parse to words\n",
    "   2. slice last X of data from \"stacks\" at key Y, and then concat them to \"stacks\" at key Z\n",
    "6. Iterating over keys, pull the last value from each \"stacks\", and join them\n"
   ]
  },
  {
   "cell_type": "code",
   "execution_count": 1,
   "metadata": {},
   "outputs": [],
   "source": [
    "test = \"\"\"    [D]    \n",
    "[N] [C]    \n",
    "[Z] [M] [P]\n",
    " 1   2   3 \n",
    "\n",
    "move 1 from 2 to 1\n",
    "move 3 from 1 to 3\n",
    "move 2 from 2 to 1\n",
    "move 1 from 1 to 2\"\"\"\n",
    "\n",
    "source = test"
   ]
  },
  {
   "cell_type": "code",
   "execution_count": 2,
   "metadata": {},
   "outputs": [],
   "source": [
    "source = open(\"./day_5.txt\").read()"
   ]
  },
  {
   "cell_type": "code",
   "execution_count": 3,
   "metadata": {},
   "outputs": [],
   "source": [
    "stacklinetext, instructiontext = source.split(\"\\n\\n\")"
   ]
  },
  {
   "cell_type": "code",
   "execution_count": 4,
   "metadata": {},
   "outputs": [],
   "source": [
    "stacks = dict([(int(l[0]), l[1:]) for l in [list(''.join(list(chars)[::-1]).strip()) for chars in zip(*stacklinetext.splitlines()) if chars[-1] != ' ']])"
   ]
  },
  {
   "cell_type": "code",
   "execution_count": 5,
   "metadata": {},
   "outputs": [],
   "source": [
    "def execute(num, from_key, to_key):\n",
    "    stacks[to_key] = stacks[to_key] + list(stacks[from_key][-1 * num:]) #[::-1]\n",
    "    stacks[from_key] = stacks[from_key][:-1 * num]"
   ]
  },
  {
   "cell_type": "code",
   "execution_count": 6,
   "metadata": {},
   "outputs": [],
   "source": [
    "_ = [execute(*[int(word) for word in line.split(\" \") if word.isnumeric()]) for line in instructiontext.splitlines()]"
   ]
  },
  {
   "cell_type": "code",
   "execution_count": 7,
   "metadata": {},
   "outputs": [
    {
     "data": {
      "text/plain": [
       "'STHGRZZFR'"
      ]
     },
     "execution_count": 7,
     "metadata": {},
     "output_type": "execute_result"
    }
   ],
   "source": [
    "last = ''.join([stacks[key][-1] for key in stacks.keys()])\n",
    "last"
   ]
  }
 ],
 "metadata": {
  "kernelspec": {
   "display_name": "Python 3.10.6 64-bit",
   "language": "python",
   "name": "python3"
  },
  "language_info": {
   "codemirror_mode": {
    "name": "ipython",
    "version": 3
   },
   "file_extension": ".py",
   "mimetype": "text/x-python",
   "name": "python",
   "nbconvert_exporter": "python",
   "pygments_lexer": "ipython3",
   "version": "3.10.6"
  },
  "orig_nbformat": 4,
  "vscode": {
   "interpreter": {
    "hash": "b0fa6594d8f4cbf19f97940f81e996739fb7646882a419484c72d19e05852a7e"
   }
  }
 },
 "nbformat": 4,
 "nbformat_minor": 2
}
