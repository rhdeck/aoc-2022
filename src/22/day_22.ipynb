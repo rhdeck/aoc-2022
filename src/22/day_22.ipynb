{
 "cells": [
  {
   "cell_type": "code",
   "execution_count": 113,
   "metadata": {},
   "outputs": [],
   "source": [
    "test = \"\"\"        ...#\n",
    "        .#..\n",
    "        #...\n",
    "        ....\n",
    "...#.......#\n",
    "........#...\n",
    "..#....#....\n",
    "..........#.\n",
    "        ...#....\n",
    "        .....#..\n",
    "        .#......\n",
    "        ......#.\n",
    "\n",
    "10R5L5R10L4R5L5\"\"\"\n",
    "source = test"
   ]
  },
  {
   "cell_type": "code",
   "execution_count": 114,
   "metadata": {},
   "outputs": [],
   "source": [
    "source = open(\"./day_22.txt\").read()"
   ]
  },
  {
   "attachments": {},
   "cell_type": "markdown",
   "metadata": {},
   "source": [
    "## Step 0: Parse the source data"
   ]
  },
  {
   "cell_type": "code",
   "execution_count": 115,
   "metadata": {},
   "outputs": [],
   "source": [
    "(board, instructions) = source.split(\"\\n\\n\")"
   ]
  },
  {
   "cell_type": "code",
   "execution_count": 116,
   "metadata": {},
   "outputs": [],
   "source": [
    "# Parse instructions\n",
    "steps = []\n",
    "digits = []\n",
    "for char in instructions:\n",
    "    if char in \"LR\":\n",
    "        if(len(digits)): steps.append({\"type\": \"move\", \"steps\": int(\"\".join(digits))})\n",
    "        # instructions = instructions.replace(char, f\" {char} \")\n",
    "        steps.append({\"type\": \"turn\", \"direction\": char})\n",
    "        digits = []\n",
    "    else: digits.append(char)\n",
    "if(len(digits)): steps.append({\"type\": \"move\", \"steps\": int(\"\".join(digits))})\n"
   ]
  },
  {
   "cell_type": "code",
   "execution_count": 117,
   "metadata": {},
   "outputs": [],
   "source": [
    "WARP = '='\n",
    "WALL = '|'\n",
    "SPACE = \"_\""
   ]
  },
  {
   "cell_type": "code",
   "execution_count": 118,
   "metadata": {},
   "outputs": [],
   "source": [
    "board = board.replace(\"#\", WALL)\n",
    "boardRows = [WARP + line.replace(\" \", WARP) + WARP for line in  board.splitlines()]\n",
    "boardRows = [row.replace('.', SPACE) for row in boardRows]\n",
    "maxlen = max([len(row) for row in boardRows])\n",
    "boardRows = [\"\".join(WARP for _ in range(maxlen)), *[row + \"\".join(WARP for _ in range(maxlen - len(row))) for row in boardRows], \"\".join(WARP for _ in range(maxlen))]\n",
    "boardGrid = [list(row) for row in boardRows]\n"
   ]
  },
  {
   "cell_type": "code",
   "execution_count": 119,
   "metadata": {},
   "outputs": [],
   "source": [
    "def viz_grid(boardGrid, position = [0,0], spacer = \"  \"):\n",
    "    newArr = boardGrid.copy()\n",
    "    newArr[position[1]][position[0]] = 'R'\n",
    "    return \"\\n\".join([spacer.join(row) for row in newArr])"
   ]
  },
  {
   "cell_type": "code",
   "execution_count": 120,
   "metadata": {},
   "outputs": [],
   "source": [
    "import numpy\n",
    "\n",
    "boardArr = numpy.array(boardGrid)\n",
    "startRow = 1\n",
    "startCol =  boardArr[startRow].tolist().index(SPACE)"
   ]
  },
  {
   "cell_type": "code",
   "execution_count": 121,
   "metadata": {},
   "outputs": [],
   "source": [
    "def runStep(step, facing, position, grid, stepIndex = 0, isDebug = False):\n",
    "    if isDebug: print(\"Starting\", step, facing, position, stepIndex)\n",
    "    (col, row) = position\n",
    "    if step[\"type\"] == \"turn\":\n",
    "        if step[\"direction\"] == \"R\":\n",
    "            facing = (facing - 1) % 4\n",
    "            grid = numpy.rot90(grid, 1, axes=(0, 1))\n",
    "            c,r = position\n",
    "            row = len(grid) - c-1\n",
    "            col = r\n",
    "        else:\n",
    "            facing = (facing + 1) % 4\n",
    "            grid = numpy.rot90(grid, 3, axes=(0, 1))\n",
    "            c,r = position\n",
    "            col = len(grid[0]) - r-1\n",
    "            row = c\n",
    "    else:\n",
    "        steps = step[\"steps\"]\n",
    "        c = col\n",
    "        r = grid[row]\n",
    "        r2 = r.copy()\n",
    "        r2[col] = \"R\"\n",
    "        if isDebug: print(''.join(r2))\n",
    "        l = len([c for c in r if c != WARP])\n",
    "        offset = next(i for i in range(len(r)) if r[i] != WARP)\n",
    "        wallpos = next(i for i in range(col, len(r)) if r[i] == WALL) if WALL in r[col:] else -1\n",
    "        prevwall = next(i for i in range(offset, col) if r[i] == WALL) if col > offset and WALL in r[:col] else -1\n",
    "        if wallpos > -1 and steps > wallpos - col-1:\n",
    "            col = wallpos - 1\n",
    "        elif col + steps < (wallpos if wallpos > -1 else (offset + l)):\n",
    "            col = (((col-offset) + steps) ) + offset\n",
    "        elif (prevwall > -1) and (((l-(col-offset)) + (prevwall - offset))<= steps):\n",
    "            if(prevwall > offset): col = prevwall -1\n",
    "            else: col = offset +l -1\n",
    "        else:\n",
    "            col = (((col-offset) + steps) % l) + offset\n",
    "        if isDebug: \n",
    "            r2[col] = \"S\"\n",
    "            print(''.join(r2))\n",
    "        r2[col] = \"S\"\n",
    "        if(r[col] != SPACE): \n",
    "            print(\"BADMANMBADMANBADMAN\", r[col], step, (c,r), stepIndex)\n",
    "            return None\n",
    "\n",
    "    return (facing, (col, row), grid)"
   ]
  },
  {
   "attachments": {},
   "cell_type": "markdown",
   "metadata": {},
   "source": [
    "## Part 1: Wrapping Map"
   ]
  },
  {
   "cell_type": "code",
   "execution_count": 122,
   "metadata": {},
   "outputs": [],
   "source": [
    "position = (startCol, startRow)\n",
    "grid = boardArr.copy()\n",
    "facing = 0"
   ]
  },
  {
   "cell_type": "code",
   "execution_count": 123,
   "metadata": {},
   "outputs": [],
   "source": [
    "from time import sleep\n",
    "from IPython.display import clear_output\n",
    "for i, step in enumerate(steps): facing, position, grid = runStep(step, facing, position, grid, i)"
   ]
  },
  {
   "cell_type": "code",
   "execution_count": 124,
   "metadata": {},
   "outputs": [
    {
     "data": {
      "text/plain": [
       "75388"
      ]
     },
     "execution_count": 124,
     "metadata": {},
     "output_type": "execute_result"
    }
   ],
   "source": [
    "originalFacing = facing\n",
    "while facing > 0:\n",
    "    print(\"Rotating because facing is \", facing)\n",
    "    facing, position, grid = runStep({\"type\": \"turn\", \"direction\": 'R'}, facing, position, grid)\n",
    "\n",
    "1000 * position[1] + 4 * position[0] + originalFacing"
   ]
  }
 ],
 "metadata": {
  "kernelspec": {
   "display_name": "Python 3",
   "language": "python",
   "name": "python3"
  },
  "language_info": {
   "codemirror_mode": {
    "name": "ipython",
    "version": 3
   },
   "file_extension": ".py",
   "mimetype": "text/x-python",
   "name": "python",
   "nbconvert_exporter": "python",
   "pygments_lexer": "ipython3",
   "version": "3.10.6"
  },
  "orig_nbformat": 4,
  "vscode": {
   "interpreter": {
    "hash": "b0fa6594d8f4cbf19f97940f81e996739fb7646882a419484c72d19e05852a7e"
   }
  }
 },
 "nbformat": 4,
 "nbformat_minor": 2
}
