{
 "cells": [
  {
   "cell_type": "code",
   "execution_count": 80,
   "metadata": {},
   "outputs": [],
   "source": [
    "test = \"\"\"        ...#\n",
    "        .#..\n",
    "        #...\n",
    "        ....\n",
    "...#.......#\n",
    "........#...\n",
    "..#....#....\n",
    "..........#.\n",
    "        ...#....\n",
    "        .....#..\n",
    "        .#......\n",
    "        ......#.\n",
    "\n",
    "10R5L5R10L4R5L5\"\"\"\n",
    "source = test\n",
    "\n",
    "offsets = [(2,0), (0,1), (1,1), (2,1), (2,2), (3,2)]\n",
    "neighbors = [\n",
    "    [\n",
    "        [5,2], #done\n",
    "        [1,2], #done\n",
    "        [2,1],\n",
    "        [3,0] # done\n",
    "    ],\n",
    "    [\n",
    "        [2,0], #done\n",
    "        [0,2], #done\n",
    "        [5,1], #\n",
    "        [4,2]\n",
    "    ],\n",
    "    [\n",
    "        [3,0], #done\n",
    "        [0,3], #\n",
    "        [1,0], #done\n",
    "        [4,1] #\n",
    "    ],\n",
    "    [\n",
    "        [5,3], #\n",
    "        [0,0], #done\n",
    "        [2,0], #done\n",
    "        [4,0] #done\n",
    "\n",
    "    ], [\n",
    "        [5,0], #done\n",
    "        [3,0], #done\n",
    "        [2,3], #\n",
    "        [1,2] #done\n",
    "    ], [\n",
    "        [0,2], # done\n",
    "        [1,3], #\n",
    "        [4,0], #done\n",
    "        [3,1],#\n",
    "    ]\n",
    "]\n",
    "\n",
    "side = 4"
   ]
  },
  {
   "cell_type": "code",
   "execution_count": 81,
   "metadata": {},
   "outputs": [],
   "source": [
    "useInput = True\n",
    "if useInput == True:\n",
    "    source = open(\"./day_22.txt\").read()\n",
    "\n",
    "    offsets = [(1,0), (2,0), (1,1), (0,2), (1,2), (0,3)]\n",
    "    neighbors = [\n",
    "        [\n",
    "            [1,0], #Done\n",
    "            [5,3], #x\n",
    "            [3,2], # Done\n",
    "            [2,0] #Done \n",
    "        ],\n",
    "        [\n",
    "            [4,2], #Done\n",
    "            [5,0], #Done\n",
    "            [0,0], # Done\n",
    "            [2,3]\n",
    "        ],\n",
    "        [\n",
    "            [1,1], #\n",
    "            [0,0], # Done\n",
    "            [3,1], #Done\n",
    "            [4,0] # Done\n",
    "        ],\n",
    "        [\n",
    "            [4,0], #Done\n",
    "            [2,3], # Done\n",
    "            [0,2], #Done\n",
    "            [5,0] # Done\n",
    "\n",
    "        ], [\n",
    "            [1,2], # Done\n",
    "            [2,0], # Done\n",
    "            [3,0], # Done\n",
    "            [5,3] #\n",
    "        ], [\n",
    "            [4,1], # \n",
    "            [3,0], # Done\n",
    "            [0,1], # x\n",
    "            [1,0],#Done\n",
    "        ]\n",
    "    ]\n",
    "    side = 50"
   ]
  },
  {
   "attachments": {},
   "cell_type": "markdown",
   "metadata": {},
   "source": [
    "## Step 0: Parse the source data"
   ]
  },
  {
   "cell_type": "code",
   "execution_count": 82,
   "metadata": {},
   "outputs": [],
   "source": [
    "(board, instructions) = source.split(\"\\n\\n\")"
   ]
  },
  {
   "cell_type": "code",
   "execution_count": 83,
   "metadata": {},
   "outputs": [],
   "source": [
    "# Parse instructions\n",
    "steps = []\n",
    "digits = []\n",
    "for char in instructions:\n",
    "    if char in \"LR\":\n",
    "        if(len(digits)): steps.append({\"type\": \"move\", \"steps\": int(\"\".join(digits))})\n",
    "        # instructions = instructions.replace(char, f\" {char} \")\n",
    "        steps.append({\"type\": \"turn\", \"direction\": char})\n",
    "        digits = []\n",
    "    else: digits.append(char)\n",
    "if(len(digits)): steps.append({\"type\": \"move\", \"steps\": int(\"\".join(digits))})\n"
   ]
  },
  {
   "cell_type": "code",
   "execution_count": 84,
   "metadata": {},
   "outputs": [],
   "source": [
    "WARP = ' '\n",
    "WALL = ','\n",
    "SPACE = \"_\""
   ]
  },
  {
   "cell_type": "code",
   "execution_count": 85,
   "metadata": {},
   "outputs": [],
   "source": [
    "board = board.replace(\"#\", WALL)\n",
    "boardRows = [WARP + line.replace(\" \", WARP) + WARP for line in  board.splitlines()]\n",
    "boardRows = [row.replace('.', SPACE) for row in boardRows]\n",
    "maxlen = max([len(row) for row in boardRows])\n",
    "boardRows = [\"\".join(WARP for _ in range(maxlen)), *[row + \"\".join(WARP for _ in range(maxlen - len(row))) for row in boardRows], \"\".join(WARP for _ in range(maxlen))]\n",
    "boardGrid = [list(row) for row in boardRows]\n"
   ]
  },
  {
   "cell_type": "code",
   "execution_count": 86,
   "metadata": {},
   "outputs": [],
   "source": [
    "facings = [\">\", \"^\", \"<\", \"v\"]\n",
    "def viz_grid(boardGrid, position = [-1, -1], spacer = \"  \", spos = None, rfacing = None, sfacing = None):\n",
    "    newArr = boardGrid.copy()\n",
    "    print(\"Visualizing with position\", position,\"and spos of \", spos)\n",
    "    rchar = 'R' if rfacing == None else facings[rfacing % len(facings)]\n",
    "    if position[0] > -1: newArr[position[1]][position[0]] = rchar\n",
    "    schar = 'S' if sfacing == None else facings[sfacing % len(facings)]\n",
    "    if(spos != None): newArr[spos[1]][spos[0]] = schar\n",
    "    print(\"\\n\".join([spacer.join(row) for row in newArr]))"
   ]
  },
  {
   "cell_type": "code",
   "execution_count": 87,
   "metadata": {},
   "outputs": [],
   "source": [
    "import numpy\n",
    "\n",
    "boardArr = numpy.array(boardGrid)\n",
    "startRow = 1\n",
    "startCol =  boardArr[startRow].tolist().index(SPACE)"
   ]
  },
  {
   "attachments": {},
   "cell_type": "markdown",
   "metadata": {},
   "source": [
    "## Part 1: Wrapping Map"
   ]
  },
  {
   "cell_type": "code",
   "execution_count": 88,
   "metadata": {},
   "outputs": [],
   "source": [
    "def runStep(step, facing, position, grid, stepIndex = 0, isDebug = False):\n",
    "    if isDebug: print(\"Starting\", step, facing, position, stepIndex)\n",
    "    (col, row) = position\n",
    "    if step[\"type\"] == \"turn\":\n",
    "        if step[\"direction\"] == \"R\":\n",
    "            facing = (facing - 1) % 4\n",
    "            grid = numpy.rot90(grid, 1, axes=(0, 1))\n",
    "            c,r = position\n",
    "            row = len(grid) - c-1\n",
    "            col = r\n",
    "        else:\n",
    "            facing = (facing + 1) % 4\n",
    "            grid = numpy.rot90(grid, 3, axes=(0, 1))\n",
    "            c,r = position\n",
    "            col = len(grid[0]) - r-1\n",
    "            row = c\n",
    "    else:\n",
    "        steps = step[\"steps\"]\n",
    "        c = col\n",
    "        r = grid[row]\n",
    "        r2 = r.copy()\n",
    "        r2[col] = \"R\"\n",
    "        if isDebug: print(''.join(r2))\n",
    "        l = len([c for c in r if c != WARP])\n",
    "        offset = next(i for i in range(len(r)) if r[i] != WARP)\n",
    "        wallpos = next(i for i in range(col, len(r)) if r[i] == WALL) if WALL in r[col:] else -1\n",
    "        prevwall = next(i for i in range(offset, col) if r[i] == WALL) if col > offset and WALL in r[:col] else -1\n",
    "        if wallpos > -1 and steps > wallpos - col-1:\n",
    "            col = wallpos - 1\n",
    "        elif col + steps < (wallpos if wallpos > -1 else (offset + l)):\n",
    "            col = (((col-offset) + steps) ) + offset\n",
    "        elif (prevwall > -1) and (((l-(col-offset)) + (prevwall - offset))<= steps):\n",
    "            if(prevwall > offset): col = prevwall -1\n",
    "            else: col = offset +l -1\n",
    "        else:\n",
    "            col = (((col-offset) + steps) % l) + offset\n",
    "        if isDebug: \n",
    "            r2[col] = \"S\"\n",
    "            print(''.join(r2))\n",
    "        r2[col] = \"S\"\n",
    "        if(r[col] != SPACE): \n",
    "            print(\"BADMANMBADMANBADMAN\", r[col], step, (c,r), stepIndex)\n",
    "            return None\n",
    "\n",
    "    return (facing, (col, row), grid)"
   ]
  },
  {
   "cell_type": "code",
   "execution_count": 89,
   "metadata": {},
   "outputs": [],
   "source": [
    "position = (startCol, startRow)\n",
    "grid = boardArr.copy()\n",
    "facing = 0"
   ]
  },
  {
   "cell_type": "code",
   "execution_count": 90,
   "metadata": {},
   "outputs": [],
   "source": [
    "for i, step in enumerate(steps): facing, position, grid = runStep(step, facing, position, grid, i)"
   ]
  },
  {
   "cell_type": "code",
   "execution_count": 91,
   "metadata": {},
   "outputs": [
    {
     "data": {
      "text/plain": [
       "75388"
      ]
     },
     "execution_count": 91,
     "metadata": {},
     "output_type": "execute_result"
    }
   ],
   "source": [
    "originalFacing = facing\n",
    "while facing > 0:\n",
    "    print(\"Rotating because facing is \", facing)\n",
    "    facing, position, grid = runStep({\"type\": \"turn\", \"direction\": 'R'}, facing, position, grid)\n",
    "\n",
    "1000 * position[1] + 4 * position[0] + originalFacing"
   ]
  },
  {
   "attachments": {},
   "cell_type": "markdown",
   "metadata": {},
   "source": [
    "## Part 2: Borg spaceship"
   ]
  },
  {
   "cell_type": "code",
   "execution_count": 92,
   "metadata": {},
   "outputs": [],
   "source": [
    "position = (startCol, startRow)\n",
    "grid = boardArr.copy()\n",
    "facing = 0\n",
    "origins = numpy.add(numpy.multiply(numpy.array(offsets), side),1).astype(int)\n",
    "sides = [grid[origins[i][1]:origins[i][1]+side, origins[i][0]:origins[i][0]+side] for i in range(len(offsets))]"
   ]
  },
  {
   "cell_type": "code",
   "execution_count": 93,
   "metadata": {},
   "outputs": [],
   "source": [
    "def rotateToFacing(facing, position, faceIndex):\n",
    "    newFace = sides[faceIndex].copy()\n",
    "    c,r = position\n",
    "    for i in range((-facing) % 4):\n",
    "        newFace = numpy.rot90(newFace, 1, axes=(0, 1))\n",
    "        newr = len(newFace) - c - 1\n",
    "        c = r\n",
    "        r = newr\n",
    "    newPos = (c,r)\n",
    "    return newPos, newFace\n",
    "\n",
    "def rotateFromFacing(facing, position, faceIndex):\n",
    "    return rotateToFacing(facing * -1, position, faceIndex)\n",
    "\n",
    "def getAbsolutePosition(faceIndex, position):\n",
    "    npos = numpy.array(position)\n",
    "    npos = numpy.add(npos, numpy.array(origins[faceIndex]))\n",
    "    return npos\n",
    "\n",
    "def getAbsolutePositionOnFace(faceIndex, position, facing):\n",
    "    newpos, _ = rotateFromFacing(facing, position, faceIndex)\n",
    "    abspos = getAbsolutePosition(faceIndex, newpos)\n",
    "    return abspos\n",
    "\n",
    "def viz_abspos(faceIndex, position, facing):\n",
    "    abspos = getAbsolutePosition(faceIndex, position)\n",
    "    viz_grid(grid, abspos, rfacing=facing, spacer=\"\")\n"
   ]
  },
  {
   "cell_type": "code",
   "execution_count": 94,
   "metadata": {},
   "outputs": [],
   "source": [
    "from time import sleep\n",
    "from IPython.display import clear_output\n",
    "\n",
    "l = len(sides[0])\n",
    "\n",
    "def runStep2(step, facing, faceIndex, position, stepIndex = 0, isDebug = True):\n",
    "    if isDebug: print(\"Starting\", \"step\", step, \"facing\", facing, \"faceIndex\", faceIndex, \"position\", position, stepIndex)\n",
    "    (col, row) = position\n",
    "    if step[\"type\"] == \"turn\":\n",
    "        facing = (facing - 1) % 4 if step[\"direction\"] == \"R\" else (facing + 1) % 4\n",
    "        if isDebug: print(\"Returning from turn\", \"step\", step, \"final facing\", facing, \"faceIndex\", faceIndex, \"position\", position, stepIndex)\n",
    "        return facing, faceIndex, position\n",
    "    else:\n",
    "        steps = step[\"steps\"]\n",
    "        pos, face = rotateToFacing(facing, position, faceIndex)\n",
    "        if isDebug: \n",
    "            print(\"position after rotation\", pos, \"but before it was\", position)\n",
    "            print(\"neighbor is\", neighbors[faceIndex][facing], \"from faceIndex\", faceIndex, \"and facing \", facing)\n",
    "        _, neighbor = rotateToFacing(facing + neighbors[faceIndex][facing][1], position, neighbors[faceIndex][facing][0])\n",
    "        c = pos[0]\n",
    "        g2 = [list(\"\".join(face[y]) + \" \" + \"\".join(neighbor[y])) for y in range(len(face))]\n",
    "        col = pos[0]\n",
    "        row = pos[1]\n",
    "        r0 = row\n",
    "        r = face[pos[1]]\n",
    "        n = neighbor[pos[1]]\n",
    "        wallpos = next(i for i in range(col, len(r)) if r[i] == WALL) if WALL in r[col:] else -1\n",
    "        neighborWall = next(i for i in range(len(r)) if n[i] == WALL) if WALL in n else -1\n",
    "        if wallpos > -1 and steps > wallpos - col-1:\n",
    "            col = wallpos - 1\n",
    "        elif col + steps < (wallpos if wallpos > -1 else l):\n",
    "            col = col + steps\n",
    "        elif (neighborWall > -1) and ((l-col) + neighborWall<= steps):\n",
    "            if neighborWall == 0 : col = l-1\n",
    "            else: col = l+ neighborWall -1\n",
    "        else:\n",
    "            col = col + steps\n",
    "        if isDebug: \n",
    "            print(\"I moved to col\", col)\n",
    "            print(\"=== grid at step \"+str(stepIndex)+\"===\")\n",
    "            viz_grid(g2, pos, spacer=\"\", spos=(min(col if col < l else col + 1, 2*l), pos[1]))\n",
    "            print(\"=== done with grid ===\")\n",
    "        #wait, are we on a different facing?\n",
    "        if(col > l-1):\n",
    "            col = col-l\n",
    "            if isDebug: print(\"Buidling new facing from current facing of \", facing , \"and neighbor's facing\", neighbors[faceIndex][facing], \"based on faceindex of\", faceIndex)\n",
    "            fi = neighbors[faceIndex][facing][0];\n",
    "            if isDebug: print(\"updating facing based on \",neighbors[faceIndex][facing][1], facing, \"with faceindex of \", faceIndex)\n",
    "            facing = neighbors[faceIndex][facing][1] + facing\n",
    "            faceIndex = fi\n",
    "            if(col > l-1):\n",
    "                newStep = {\"type\": \"move\", \"steps\": col - l}\n",
    "                return runStep2(newStep, facing, faceIndex, (l-1, row), stepIndex, isDebug)\n",
    "    return (facing, faceIndex, rotateFromFacing(facing, [col, row], faceIndex)[0])"
   ]
  },
  {
   "cell_type": "code",
   "execution_count": 95,
   "metadata": {},
   "outputs": [],
   "source": [
    "facing = 0\n",
    "faceIndex = 0\n",
    "face = sides[faceIndex].copy()\n",
    "position = (0,0)\n",
    "history = [(getAbsolutePosition(0, (0,0)),(0,0), 0, 0)]\n",
    "for i, step in enumerate(steps): \n",
    "    facing, faceIndex, position = runStep2(step, facing, faceIndex, position, stepIndex=i ,isDebug=False)\n",
    "    absposition = getAbsolutePosition(faceIndex, position)\n",
    "    history.append((absposition, position, facing, faceIndex))"
   ]
  },
  {
   "cell_type": "code",
   "execution_count": 96,
   "metadata": {},
   "outputs": [],
   "source": [
    "# descriptions = [str(step[0]) + \": \" + facings[step[1][2] % len(facings)] + \": \" + str(step[1][3]) + \" - \" + \",\".join([str(step[1][0][1]-1), str(step[1][0][0]-1)]) for step in enumerate(history)]\n",
    "# descriptions[4000]"
   ]
  },
  {
   "cell_type": "code",
   "execution_count": 97,
   "metadata": {},
   "outputs": [
    {
     "data": {
      "text/plain": [
       "182170"
      ]
     },
     "execution_count": 97,
     "metadata": {},
     "output_type": "execute_result"
    }
   ],
   "source": [
    "npos = getAbsolutePosition(faceIndex, position)\n",
    "1000 * npos[1] + 4* npos[0] + (-facing % len(facings))\n"
   ]
  }
 ],
 "metadata": {
  "kernelspec": {
   "display_name": "Python 3",
   "language": "python",
   "name": "python3"
  },
  "language_info": {
   "codemirror_mode": {
    "name": "ipython",
    "version": 3
   },
   "file_extension": ".py",
   "mimetype": "text/x-python",
   "name": "python",
   "nbconvert_exporter": "python",
   "pygments_lexer": "ipython3",
   "version": "3.10.6"
  },
  "orig_nbformat": 4,
  "vscode": {
   "interpreter": {
    "hash": "b0fa6594d8f4cbf19f97940f81e996739fb7646882a419484c72d19e05852a7e"
   }
  }
 },
 "nbformat": 4,
 "nbformat_minor": 2
}
