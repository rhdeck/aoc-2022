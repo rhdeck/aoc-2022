{
 "cells": [
  {
   "cell_type": "code",
   "execution_count": 10,
   "metadata": {},
   "outputs": [],
   "source": [
    "test = \"\"\"R 4\n",
    "U 4\n",
    "L 3\n",
    "D 1\n",
    "R 4\n",
    "D 1\n",
    "L 5\n",
    "R 2\"\"\"\n",
    "\n",
    "test2 = \"\"\"R 5\n",
    "U 8\n",
    "L 8\n",
    "D 3\n",
    "R 17\n",
    "D 10\n",
    "L 25\n",
    "U 20\"\"\"\n",
    "source =test2"
   ]
  },
  {
   "cell_type": "code",
   "execution_count": 11,
   "metadata": {},
   "outputs": [],
   "source": [
    "source = open(\"./day_9.txt\").read()"
   ]
  },
  {
   "cell_type": "code",
   "execution_count": 12,
   "metadata": {},
   "outputs": [],
   "source": [
    "movements = {\n",
    "    \"L\": (-1, 0),\n",
    "    \"R\": (1, 0),\n",
    "    \"U\": (0, 1),\n",
    "    \"D\": (0, -1),\n",
    "}\n",
    "commands = [[movements[a[0]], int(a[1])] for a in [x.split(\" \") for x in source.splitlines()]]"
   ]
  },
  {
   "cell_type": "code",
   "execution_count": 13,
   "metadata": {},
   "outputs": [],
   "source": [
    "class Rope:\n",
    "    def __init__(self, nextRope , key):\n",
    "        self.hpos = [0,0]\n",
    "        self.tpos = [0,0]\n",
    "        self.thistory = set()\n",
    "        self.nextRope = nextRope\n",
    "        if(nextRope != None): nextRope.hpos = self.tpos\n",
    "        self.key = key\n",
    "    def change(self, h,t):\n",
    "        xdelta = h - t\n",
    "        xmag = abs(xdelta);\n",
    "        if(xmag == 0): return 0\n",
    "        xdir = xdelta / xmag\n",
    "        return int(xdir)\n",
    "    def movehead(self, xy):\n",
    "        x,y = xy\n",
    "        self.hpos[0] +=x\n",
    "        self.hpos[1] +=y\n",
    "        self.movetail()\n",
    "    def movetail(self):\n",
    "        plank = max(abs(x) for x in [self.tpos[0] - self.hpos[0], self.tpos[1] - self.hpos[1]])\n",
    "        if(plank > 1): \n",
    "            self.tpos[0] += self.change(self.hpos[0], self.tpos[0])\n",
    "            self.tpos[1] += self.change(self.hpos[1], self.tpos[1])\n",
    "            self.thistory.add(tuple(self.tpos))\n",
    "        if(self.nextRope != None):\n",
    "            self.nextRope.movetail()\n",
    "    def executePart1(self, xy, count): \n",
    "        for x in range(count): \n",
    "            self.movehead(xy)\n"
   ]
  },
  {
   "cell_type": "code",
   "execution_count": 14,
   "metadata": {},
   "outputs": [
    {
     "name": "stdout",
     "output_type": "stream",
     "text": [
      "Part 1: 6269\n"
     ]
    }
   ],
   "source": [
    "rope = Rope(None, -1)\n",
    "([rope.executePart1(*command) for command in commands])\n",
    "print(\"Part 1:\", len(rope.thistory))"
   ]
  },
  {
   "cell_type": "code",
   "execution_count": 15,
   "metadata": {},
   "outputs": [
    {
     "name": "stdout",
     "output_type": "stream",
     "text": [
      "Part 2: 2556\n"
     ]
    }
   ],
   "source": [
    "tail = Rope(None, -1)\n",
    "thisTail = tail\n",
    "for x in range(8):\n",
    "    thisTail = Rope(thisTail, x)\n",
    "head = thisTail\n",
    "([head.executePart1(*command) for command in commands])\n",
    "print(\"Part 2:\", len(tail.thistory))\n",
    "\n"
   ]
  }
 ],
 "metadata": {
  "kernelspec": {
   "display_name": "Python 3.10.6 64-bit",
   "language": "python",
   "name": "python3"
  },
  "language_info": {
   "codemirror_mode": {
    "name": "ipython",
    "version": 3
   },
   "file_extension": ".py",
   "mimetype": "text/x-python",
   "name": "python",
   "nbconvert_exporter": "python",
   "pygments_lexer": "ipython3",
   "version": "3.10.6"
  },
  "orig_nbformat": 4,
  "vscode": {
   "interpreter": {
    "hash": "b0fa6594d8f4cbf19f97940f81e996739fb7646882a419484c72d19e05852a7e"
   }
  }
 },
 "nbformat": 4,
 "nbformat_minor": 2
}
