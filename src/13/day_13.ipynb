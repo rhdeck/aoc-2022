{
 "cells": [
  {
   "cell_type": "code",
   "execution_count": 1,
   "metadata": {},
   "outputs": [],
   "source": [
    "test = \"\"\"[1,1,3,1,1]\n",
    "[1,1,5,1,1]\n",
    "\n",
    "[[1],[2,3,4]]\n",
    "[[1],4]\n",
    "\n",
    "[9]\n",
    "[[8,7,6]]\n",
    "\n",
    "[[4,4],4,4]\n",
    "[[4,4],4,4,4]\n",
    "\n",
    "[7,7,7,7]\n",
    "[7,7,7]\n",
    "\n",
    "[]\n",
    "[3]\n",
    "\n",
    "[[[]]]\n",
    "[[]]\n",
    "\n",
    "[1,[2,[3,[4,[5,6,7]]]],8,9]\n",
    "[1,[2,[3,[4,[5,6,0]]]],8,9]\"\"\"\n",
    "source = test"
   ]
  },
  {
   "cell_type": "code",
   "execution_count": 2,
   "metadata": {},
   "outputs": [],
   "source": [
    "source = open(\"./day_13.txt\").read()"
   ]
  },
  {
   "cell_type": "code",
   "execution_count": 3,
   "metadata": {},
   "outputs": [],
   "source": [
    "# pairs =\n",
    "pairs = [[eval(pair[0]), eval(pair[1])] for pair in  [pair.split(\"\\n\") for pair in  source.split(\"\\n\\n\")]]"
   ]
  },
  {
   "cell_type": "code",
   "execution_count": 4,
   "metadata": {},
   "outputs": [],
   "source": [
    "def compare(a,b): \n",
    "    debug = False\n",
    "    if(debug): print(\"Comparing \" + str(a) + \" and \" + str(b))\n",
    "    if isinstance(a, int) and isinstance(b,int):\n",
    "        if(debug): print(\"Returning difference of \" + str(a) + \" and \" + str(b) + \" = \" + str(b-a))\n",
    "        return b-a\n",
    "    if isinstance(a, int) == False  and isinstance(b,int):\n",
    "        if(debug): print(\"left is list, right is int, trying again\")\n",
    "        return compare(a, [b])\n",
    "    if isinstance(a, int) and isinstance(b, int) == False:\n",
    "        if(debug): print(\"left is int, right is list, trying again\")\n",
    "        return compare([a], b)\n",
    "    else:\n",
    "        for i in range(len(a)):\n",
    "            if(debug): print(\"Working index \" + str(i) + \" - a: \" + str(a) + \" b: \" + str(b))\n",
    "            if i >= len(b):\n",
    "                if(debug): print(\"Ran out of items on right, returning -1\")\n",
    "                return -1\n",
    "            test = compare(a[i], b[i])\n",
    "            if(test !=0):\n",
    "                if(debug): print(\"Test showed a value, let's goooo\" + str(test))\n",
    "                return test\n",
    "            else:\n",
    "                if(debug): print(\"Test showed 0, let's keep going\")\n",
    "        if(debug): print(\"Ran out of items, returning 1\")\n",
    "        return len(b) - len(a)"
   ]
  },
  {
   "attachments": {},
   "cell_type": "markdown",
   "metadata": {},
   "source": [
    "## Part 1\n",
    "Sum of indicies of all pairs in the correct order"
   ]
  },
  {
   "cell_type": "code",
   "execution_count": 5,
   "metadata": {},
   "outputs": [
    {
     "data": {
      "text/plain": [
       "5330"
      ]
     },
     "execution_count": 5,
     "metadata": {},
     "output_type": "execute_result"
    }
   ],
   "source": [
    "sum(i + 1 for i in range(len(pairs)) if compare(*pairs[i]) > 0)"
   ]
  },
  {
   "attachments": {},
   "cell_type": "markdown",
   "metadata": {},
   "source": [
    "## Part 2\n",
    "Product of the special \"divisor\" points"
   ]
  },
  {
   "cell_type": "code",
   "execution_count": 6,
   "metadata": {},
   "outputs": [
    {
     "data": {
      "text/plain": [
       "27648"
      ]
     },
     "execution_count": 6,
     "metadata": {},
     "output_type": "execute_result"
    }
   ],
   "source": [
    "import numpy\n",
    "from functools import cmp_to_key\n",
    "divisor1 = '[[2]]'\n",
    "divisor2 = '[[6]]'\n",
    "list = [eval(divisor1), eval(divisor2)]\n",
    "[[list.append(line) for line in pair] for pair in pairs]\n",
    "list.sort(key=cmp_to_key(compare))\n",
    "list.reverse()\n",
    "strings = [str(item) for item in list]\n",
    "numpy.prod([i+1 for i in range(len(strings)) if strings[i] in [divisor1, divisor2]])\n"
   ]
  }
 ],
 "metadata": {
  "kernelspec": {
   "display_name": "Python 3",
   "language": "python",
   "name": "python3"
  },
  "language_info": {
   "codemirror_mode": {
    "name": "ipython",
    "version": 3
   },
   "file_extension": ".py",
   "mimetype": "text/x-python",
   "name": "python",
   "nbconvert_exporter": "python",
   "pygments_lexer": "ipython3",
   "version": "3.10.6"
  },
  "orig_nbformat": 4,
  "vscode": {
   "interpreter": {
    "hash": "b0fa6594d8f4cbf19f97940f81e996739fb7646882a419484c72d19e05852a7e"
   }
  }
 },
 "nbformat": 4,
 "nbformat_minor": 2
}
