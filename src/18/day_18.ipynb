{
 "cells": [
  {
   "cell_type": "code",
   "execution_count": 27,
   "metadata": {},
   "outputs": [],
   "source": [
    "test = \"\"\"2,2,2\n",
    "1,2,2\n",
    "3,2,2\n",
    "2,1,2\n",
    "2,3,2\n",
    "2,2,1\n",
    "2,2,3\n",
    "2,2,4\n",
    "2,2,6\n",
    "1,2,5\n",
    "3,2,5\n",
    "2,1,5\n",
    "2,3,5\"\"\"\n",
    "source = test"
   ]
  },
  {
   "cell_type": "code",
   "execution_count": 28,
   "metadata": {},
   "outputs": [],
   "source": [
    "test=\"\"\"2,2,1\n",
    "1,2,2\n",
    "2,1,2\n",
    "3,2,2\n",
    "2,3,2\n",
    "2,2,3\"\"\"\n",
    "# source = test"
   ]
  },
  {
   "cell_type": "code",
   "execution_count": 29,
   "metadata": {},
   "outputs": [],
   "source": [
    "source = open(\"./day_18.txt\").read()"
   ]
  },
  {
   "attachments": {},
   "cell_type": "markdown",
   "metadata": {},
   "source": [
    "## Part 1: Surface area"
   ]
  },
  {
   "cell_type": "code",
   "execution_count": 30,
   "metadata": {},
   "outputs": [
    {
     "name": "stdout",
     "output_type": "stream",
     "text": [
      "4512\n"
     ]
    }
   ],
   "source": [
    "sides = {}\n",
    "for dims in [list(map(int, line.split(\",\"))) for line in source.splitlines()]:\n",
    "    strs = [str(d) for d in dims]\n",
    "    d = \",\".join(strs)\n",
    "    key = \"x\" + d\n",
    "    sides[key] =   sides.get(key,0)+1\n",
    "    key = \"y\" + d\n",
    "    sides[key] =   sides.get(key,0)+1\n",
    "    key = \"z\" + d\n",
    "    sides[key] =   sides.get(key,0)+1\n",
    "    strx = [str(dims[0]+1), strs[1], strs[2]]\n",
    "    key = \"x\" + \",\".join(strx)\n",
    "    sides[key] =   sides.get(key,0)-1\n",
    "    stry = [strs[0], str(dims[1]+1), strs[2]]\n",
    "    key = \"y\" + \",\".join(stry)\n",
    "    sides[key] =   sides.get(key,0)-1\n",
    "    strz = [strs[0], strs[1], str(dims[2]+1)]\n",
    "    key = \"z\" + \",\".join(strz)\n",
    "    sides[key] =   sides.get(key,0)-1\n",
    "\n",
    "goodSides =([(s, sides[s]) for s in sides.keys() if abs(sides[s]) == 1])\n",
    "print(len(goodSides))\n",
    "goodSides.sort()\n",
    "# goodSides\n",
    "# len(sides), sides"
   ]
  },
  {
   "attachments": {},
   "cell_type": "markdown",
   "metadata": {},
   "source": [
    "## Part 2: Outside only"
   ]
  },
  {
   "cell_type": "code",
   "execution_count": 31,
   "metadata": {},
   "outputs": [],
   "source": [
    "minmax = [[min(d), max(d)] for d in zip(*[list(map(int, line.split(\",\"))) for line in source.splitlines()])]"
   ]
  },
  {
   "cell_type": "code",
   "execution_count": 32,
   "metadata": {},
   "outputs": [],
   "source": [
    "def adjacentSides(sideKey, direction, sides, isDebug=False):\n",
    "    if isDebug: print(\"Starting with\", sideKey, direction)\n",
    "    dim = sideKey[0]\n",
    "    x,y,z = list(map(int, sideKey[1:].split(\",\")))\n",
    "    # print(dim, x,y,z)\n",
    "    asides = []\n",
    "    if(dim == \"x\"):\n",
    "        xd = x -1 if direction == 1 else x\n",
    "        walls = [(f\"y{xd},{y},{z}\",-1),    (f\"y{xd},{y+1},{z}\",1),   (f\"z{xd},{y},{z}\",-1),  (f\"z{xd},{y},{z+1}\", 1)]\n",
    "        tempflats = [(f\"x{x},{y-1},{z}\",direction),(f\"x{x},{y+1},{z}\",direction), (f\"x{x},{y},{z-1}\", direction),(f\"x{x},{y},{z+1}\", direction)]\n",
    "        xd += direction\n",
    "        nextset =  [(f\"y{xd},{y},{z}\",1),  (f\"y{xd},{y+1},{z}\",-1), (f\"z{xd},{y},{z}\", 1),  (f\"z{xd},{y},{z+1}\", -1)]\n",
    "               \n",
    "    if(dim == \"y\"):\n",
    "        yd = y -1 if direction == 1 else y\n",
    "        walls = [(f\"x{x},{yd},{z}\",-1),    (f\"x{x+1},{yd},{z}\",1),   (f\"z{x},{yd},{z}\",-1),  (f\"z{x},{yd},{z+1}\", 1)]\n",
    "        tempflats = [(f\"y{x-1},{y},{z}\",direction),(f\"y{x+1},{y},{z}\",direction), (f\"y{x},{y},{z-1}\", direction),(f\"y{x},{y},{z+1}\", direction)]\n",
    "        yd += direction\n",
    "        nextset = [(f\"x{x},{yd},{z}\",1),    (f\"x{x},{yd},{z}\",-1),   (f\"z{x},{yd},{z}\",1),  (f\"z{x},{yd},{z+1}\", -1)]\n",
    "    if(dim == \"z\"):\n",
    "        zd = z -1 if direction == 1 else z\n",
    "        walls = [(f\"x{x},{y},{zd}\",-1),    (f\"x{x+1},{y},{zd}\",1),   (f\"y{x},{y},{zd}\",-1),  (f\"y{x},{y+1},{zd}\", 1)]\n",
    "        tempflats = [(f\"z{x},{y-1},{z}\",direction),(f\"z{x},{y+1},{z}\",direction), (f\"z{x-1},{y},{z}\",direction),(f\"z{x+1},{y},{z}\", direction)]\n",
    "        zd += direction\n",
    "        nextset = [(f\"x{x},{y},{zd}\",1),    (f\"x{x+1},{y},{zd}\",-1),   (f\"y{x},{y},{zd}\",1),  (f\"y{x},{y+1},{zd}\", -1)]\n",
    "        \n",
    "    if(isDebug):\n",
    "        print(\"walls\", walls)\n",
    "        print(\"tempflats\", tempflats)\n",
    "        print(\"nextset\", nextset)\n",
    "    asides = [s if sides.get(s[0]) == s[1] else None for s in walls]\n",
    "    if(isDebug):    print(\"asides\" , asides)\n",
    "    asides = [asides[i] if asides[i] != None else tempflats[i] if sides.get(tempflats[i][0]) == tempflats[i][1] else None for i in range(len(tempflats))]\n",
    "    if(isDebug):print(\"asides after tempflats\"  , asides)\n",
    "    asides = [asides[i] if asides[i] != None else nextset[i] if sides.get(nextset[i][0]) == nextset[i][1] else None for i in range(len(nextset))]\n",
    "    if(isDebug):print(\"asides after nextset\"  , asides)\n",
    "    return asides"
   ]
  },
  {
   "cell_type": "code",
   "execution_count": 33,
   "metadata": {},
   "outputs": [],
   "source": [
    "\n",
    "#for thing in \n",
    "scannedPoints = {}\n",
    "paintedSides = {}\n",
    "# z = minmax[2][0]\n",
    "# print(minmax)\n",
    "for x,y,z in [(x,y,z) for y in range(minmax[1][0], minmax[1][1]+1) for x in range(minmax[0][0], minmax[0][1]+1) for z in range(minmax[2][0], minmax[2][1]+1)]:\n",
    "    # print(x,y, z)\n",
    "    if(scannedPoints.get(\",\".join([str(x),str(y),str(z)])) != None):\n",
    "        continue\n",
    "    # print(x,y)\n",
    "    scannedPoints[\",\".join([str(x),str(y),str(z)])] = 1 if f\"z{x},{y},{z}\" in sides else 0;\n",
    "    key = f\"z{x},{y},{z}\"\n",
    "    # print(key)\n",
    "    # if(f\"x{x},{y},{z}\" in sides): paintedSides[f\"x{x},{y},{z}\"] = 1\n",
    "    # if(f\"y{x},{y},{z}\" in sides): paintedSides[f\"y{x},{y},{z}\"] = 1\n",
    "    if(f\"z{x},{y},{z}\" in sides): \n",
    "        paintedSides[f\"z{x},{y},{z}\"] = sides[f\"z{x},{y},{z}\"]\n",
    "        break\n",
    "    # if(f\"x{x+1},{y},{z}\" in sides): paintedSides[f\"x{x+1},{y},{z}\"] = 1\n",
    "    # if(f\"y{x},{y+1},{z}\" in sides): paintedSides[f\"y{x},{y+1},{z}\"] = 1\n",
    "    # if(f\"z{x},{y},{z+1}\" in sides): paintedSides[f\"x{x},{y},{z+1}\"] = 1\n",
    "# scannedPoints\n",
    "# paintedSides"
   ]
  },
  {
   "cell_type": "code",
   "execution_count": 34,
   "metadata": {},
   "outputs": [
    {
     "name": "stdout",
     "output_type": "stream",
     "text": [
      "break\n",
      "Done\n",
      "2544\n"
     ]
    }
   ],
   "source": [
    "newCount = 0\n",
    "killer = 20000\n",
    "sidesToCheck= paintedSides.keys()\n",
    "while(True):#len(sidesToCheck) > 0):\n",
    "    # newCount = len(paintedSides.keys())\n",
    "    keys = list(sidesToCheck).copy()\n",
    "    sidesToCheck = []\n",
    "    # print(\"Sides to check\",len(keys), keys)\n",
    "    # print(\"------------------\")\n",
    "    for key in keys:\n",
    "        # print(key)\n",
    "        asides = adjacentSides(key, paintedSides[key], sides,False);\n",
    "        # print(key, asides)\n",
    "        for obj in asides:\n",
    "            if obj == None: continue\n",
    "            side, direction = obj\n",
    "            # print(side)\n",
    "            if paintedSides.get(side) == None:\n",
    "                # print(side)\n",
    "                if sides[side] == direction: \n",
    "                    # if(side in badsides):\n",
    "                    #     print(\"BAD MAN BAD BAD BAD\")\n",
    "                    #     killer = -1\n",
    "                    #     break\n",
    "                    sidesToCheck.append(side) \n",
    "                    paintedSides[side] = direction\n",
    "                    # print(\"Added side\", side, direction, killer)\n",
    "                # else:\n",
    "                    # print(\"BAD MAN NO LIKE\", side)\n",
    "        if(killer == -1): break\n",
    "    # newCount = len(paintedSides)\n",
    "    killer = killer -1\n",
    "    # print(len(paintedSides), killer)\n",
    "    # print(paintedSides)\n",
    "    # if(killer %10)==0: \n",
    "    #     print(len(paintedSides), killer)\n",
    "    if(killer<1):\n",
    "        print(\"break\")\n",
    "        break\n",
    "print(\"Done\")\n",
    "print(len(paintedSides))\n",
    "# print(paintedSides)\n",
    "# l = list(paintedSides.keys())\n",
    "# l.sort()\n",
    "# print(l)\n",
    "# print(paintedSides)"
   ]
  },
  {
   "attachments": {},
   "cell_type": "markdown",
   "metadata": {},
   "source": [
    "## Guesses:\n",
    "* 2568 (high)\n",
    "* 2556 (high)\n",
    "* 2550 (wrong)\n",
    "* 2545 (wrong)\n",
    "* 2544 (low)"
   ]
  },
  {
   "attachments": {},
   "cell_type": "markdown",
   "metadata": {},
   "source": [
    "## New Strategy"
   ]
  },
  {
   "cell_type": "code",
   "execution_count": 35,
   "metadata": {},
   "outputs": [],
   "source": [
    "import numpy\n",
    "bounds = [(mm[0]-1, mm[1]+1) for mm in minmax]\n",
    "# print(bounds)\n",
    "field = numpy.zeros((bounds[0][1]-bounds[0][0]+1, bounds[1][1]-bounds[1][0]+1, bounds[2][1]-bounds[2][0]+1, 1), dtype=bool)\n",
    "field2 = numpy.zeros((bounds[0][1]-bounds[0][0]+1, bounds[1][1]-bounds[1][0]+1, bounds[2][1]-bounds[2][0]+1, 1), dtype=int)\n",
    "# print(len(field))\n",
    "# print(len(field[0]))\n",
    "# print(len(field[0][0]))\n",
    "\n",
    "for xyz in [[int(c) for c in line.split(\",\")] for line in source.splitlines()]:\n",
    "    newCoords = numpy.diff(list(zip([numpy.array(bounds)[:,0], numpy.array(xyz)])), axis = 0)[0][0]\n",
    "    field[newCoords[0], newCoords[1], newCoords[2]] = True\n",
    "# field\n",
    "\n",
    "\n",
    "\n"
   ]
  },
  {
   "cell_type": "code",
   "execution_count": 36,
   "metadata": {},
   "outputs": [],
   "source": [
    "# start at 0,0,0\n",
    "zzz = numpy.array([0,0,0])\n",
    "pointsToCheck = [zzz]\n",
    "\n",
    "def check_point(point):\n",
    "    if(point[0] < 0 or point[1] < 0 or point[2] < 0): return False\n",
    "    if(point[0] >= len(field) or point[1] >= len(field[0]) or point[2] >= len(field[0][0])): return False\n",
    "    return field2[point[0], point[1], point[2]] == 0 and field[point[0], point[1], point[2]] == False \n",
    "# print(field2)\n",
    "\n",
    "while(len(pointsToCheck) > 0):\n",
    "    # print(pointsToCheck)\n",
    "    point = pointsToCheck.pop()\n",
    "    # print(point)\n",
    "    if(check_point(point)):\n",
    "\n",
    "        field2[point[0], point[1], point[2]] = 1\n",
    "        # print(\"checked\", point)\n",
    "        pointsToCheck.extend([point + numpy.array([0,0,1]), point + numpy.array([0,0,-1]), point + numpy.array([0,1,0]), point + numpy.array([0,-1,0]), point + numpy.array([1,0,0]), point + numpy.array([-1,0,0])])\n",
    "    # else:\n",
    "        # print(\"not checked\", point)\n",
    "    # print(\"pointsToCheck\", pointsToCheck)\n",
    "# field2\n"
   ]
  },
  {
   "cell_type": "code",
   "execution_count": 37,
   "metadata": {},
   "outputs": [
    {
     "name": "stdout",
     "output_type": "stream",
     "text": [
      "2554\n"
     ]
    }
   ],
   "source": [
    "sides = {}\n",
    "for dims in [(x,y,z) for x in range(len(field2)) for y in range(len(field2[0])) for z in range(len(field2[0][0]))]:\n",
    "    if(field2[dims[0], dims[1], dims[2]] == 1):\n",
    "        strs = [str(d) for d in dims]\n",
    "        d = \",\".join(strs)\n",
    "        key = \"x\" + d\n",
    "        sides[key] =   sides.get(key,0)+1\n",
    "        key = \"y\" + d\n",
    "        sides[key] =   sides.get(key,0)+1\n",
    "        key = \"z\" + d\n",
    "        sides[key] =   sides.get(key,0)+1\n",
    "        strx = [str(dims[0]+1), strs[1], strs[2]]\n",
    "        key = \"x\" + \",\".join(strx)\n",
    "        sides[key] =   sides.get(key,0)-1\n",
    "        stry = [strs[0], str(dims[1]+1), strs[2]]\n",
    "        key = \"y\" + \",\".join(stry)\n",
    "        sides[key] =   sides.get(key,0)-1\n",
    "        strz = [strs[0], strs[1], str(dims[2]+1)]\n",
    "        key = \"z\" + \",\".join(strz)\n",
    "        sides[key] =   sides.get(key,0)-1\n",
    "\n",
    "goodSides =([(s, sides[s]) for s in sides.keys() if abs(sides[s]) == 1])\n",
    "# print(len(goodSides))\n",
    "# print(bounds)\n",
    "exteriorSA = len(field2)* len(field2[0]) * 2 + len(field2)* len(field2[0][0]) * 2 + len(field2[0])* len(field2[0][0]) * 2\n",
    "# print(exteriorSA)\n",
    "print(len(goodSides)- exteriorSA)\n",
    "# goodSides.sort()\n",
    "# goodSides\n",
    "\n",
    "# len(sides), sides"
   ]
  }
 ],
 "metadata": {
  "kernelspec": {
   "display_name": "Python 3",
   "language": "python",
   "name": "python3"
  },
  "language_info": {
   "codemirror_mode": {
    "name": "ipython",
    "version": 3
   },
   "file_extension": ".py",
   "mimetype": "text/x-python",
   "name": "python",
   "nbconvert_exporter": "python",
   "pygments_lexer": "ipython3",
   "version": "3.10.6"
  },
  "orig_nbformat": 4,
  "vscode": {
   "interpreter": {
    "hash": "b0fa6594d8f4cbf19f97940f81e996739fb7646882a419484c72d19e05852a7e"
   }
  }
 },
 "nbformat": 4,
 "nbformat_minor": 2
}
