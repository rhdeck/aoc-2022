{
 "cells": [
  {
   "cell_type": "code",
   "execution_count": 46,
   "metadata": {},
   "outputs": [],
   "source": [
    "test = \"\"\"2,2,2\n",
    "1,2,2\n",
    "3,2,2\n",
    "2,1,2\n",
    "2,3,2\n",
    "2,2,1\n",
    "2,2,3\n",
    "2,2,4\n",
    "2,2,6\n",
    "1,2,5\n",
    "3,2,5\n",
    "2,1,5\n",
    "2,3,5\"\"\"\n",
    "source = test"
   ]
  },
  {
   "attachments": {},
   "cell_type": "markdown",
   "metadata": {},
   "source": [
    "## Ray's simple test\n",
    "Six blocks oriented around a hollow center for simpler testing. Can reason about it: total SA 36, exterior SA 30"
   ]
  },
  {
   "cell_type": "code",
   "execution_count": 47,
   "metadata": {},
   "outputs": [],
   "source": [
    "test=\"\"\"2,2,1\n",
    "1,2,2\n",
    "2,1,2\n",
    "3,2,2\n",
    "2,3,2\n",
    "2,2,3\"\"\"\n",
    "# source = test"
   ]
  },
  {
   "cell_type": "code",
   "execution_count": 48,
   "metadata": {},
   "outputs": [],
   "source": [
    "source = open(\"./day_18.txt\").read()"
   ]
  },
  {
   "attachments": {},
   "cell_type": "markdown",
   "metadata": {},
   "source": [
    "## Part 1: Surface area"
   ]
  },
  {
   "cell_type": "code",
   "execution_count": 49,
   "metadata": {},
   "outputs": [
    {
     "name": "stdout",
     "output_type": "stream",
     "text": [
      "4512\n"
     ]
    }
   ],
   "source": [
    "sides = {}\n",
    "for dims in [list(map(int, line.split(\",\"))) for line in source.splitlines()]:\n",
    "    strs = [str(d) for d in dims]\n",
    "    d = \",\".join(strs)\n",
    "    key = \"x\" + d\n",
    "    sides[key] =   sides.get(key,0)+1\n",
    "    key = \"y\" + d\n",
    "    sides[key] =   sides.get(key,0)+1\n",
    "    key = \"z\" + d\n",
    "    sides[key] =   sides.get(key,0)+1\n",
    "    strx = [str(dims[0]+1), strs[1], strs[2]]\n",
    "    key = \"x\" + \",\".join(strx)\n",
    "    sides[key] =   sides.get(key,0)-1\n",
    "    stry = [strs[0], str(dims[1]+1), strs[2]]\n",
    "    key = \"y\" + \",\".join(stry)\n",
    "    sides[key] =   sides.get(key,0)-1\n",
    "    strz = [strs[0], strs[1], str(dims[2]+1)]\n",
    "    key = \"z\" + \",\".join(strz)\n",
    "    sides[key] =   sides.get(key,0)-1\n",
    "\n",
    "goodSides =([(s, sides[s]) for s in sides.keys() if abs(sides[s]) == 1])\n",
    "print(len(goodSides))"
   ]
  },
  {
   "attachments": {},
   "cell_type": "markdown",
   "metadata": {},
   "source": [
    "## Part 2: Outside only\n",
    "Strategy: Make a \"mold\" of a grid of elements that are filled outside of the field. Just walk from the corner I know is open with one block of space on each side of the interior object. The resulting object should have a total surface area of the SA of the lava molecule + the exterior surface area of the prism. Since calculating the latter is trivial, the difference is my answer! Let's see if it works..."
   ]
  },
  {
   "cell_type": "code",
   "execution_count": 50,
   "metadata": {},
   "outputs": [],
   "source": [
    "minmax = [[min(d), max(d)] for d in zip(*[list(map(int, line.split(\",\"))) for line in source.splitlines()])]"
   ]
  },
  {
   "cell_type": "code",
   "execution_count": 51,
   "metadata": {},
   "outputs": [],
   "source": [
    "import numpy\n",
    "bounds = [(mm[0]-1, mm[1]+1) for mm in minmax]\n",
    "\n",
    "field = numpy.zeros((bounds[0][1]-bounds[0][0]+1, bounds[1][1]-bounds[1][0]+1, bounds[2][1]-bounds[2][0]+1, 1), dtype=bool)\n",
    "field2 = numpy.zeros((bounds[0][1]-bounds[0][0]+1, bounds[1][1]-bounds[1][0]+1, bounds[2][1]-bounds[2][0]+1, 1), dtype=int)\n",
    "\n",
    "for xyz in [[int(c) for c in line.split(\",\")] for line in source.splitlines()]:\n",
    "    newCoords = numpy.diff(list(zip([numpy.array(bounds)[:,0], numpy.array(xyz)])), axis = 0)[0][0]\n",
    "    field[newCoords[0], newCoords[1], newCoords[2]] = True"
   ]
  },
  {
   "cell_type": "code",
   "execution_count": 52,
   "metadata": {},
   "outputs": [],
   "source": [
    "zerozerozero = numpy.array([0,0,0])\n",
    "pointsToCheck = [zerozerozero]\n",
    "\n",
    "def check_point(point):\n",
    "    if(point[0] < 0 or point[1] < 0 or point[2] < 0): return False\n",
    "    if(point[0] >= len(field) or point[1] >= len(field[0]) or point[2] >= len(field[0][0])): return False\n",
    "    return field2[point[0], point[1], point[2]] == 0 and field[point[0], point[1], point[2]] == False \n",
    "\n",
    "while(len(pointsToCheck) > 0):\n",
    "    point = pointsToCheck.pop()\n",
    "    if(check_point(point)):\n",
    "        field2[point[0], point[1], point[2]] = 1\n",
    "        pointsToCheck.extend([point + numpy.array([0,0,1]), point + numpy.array([0,0,-1]), point + numpy.array([0,1,0]), point + numpy.array([0,-1,0]), point + numpy.array([1,0,0]), point + numpy.array([-1,0,0])])\n"
   ]
  },
  {
   "cell_type": "code",
   "execution_count": 53,
   "metadata": {},
   "outputs": [
    {
     "name": "stdout",
     "output_type": "stream",
     "text": [
      "2554\n"
     ]
    }
   ],
   "source": [
    "sides = {}\n",
    "for dims in [(x,y,z) for x in range(len(field2)) for y in range(len(field2[0])) for z in range(len(field2[0][0]))]:\n",
    "    if(field2[dims[0], dims[1], dims[2]] == 1):\n",
    "        strs = [str(d) for d in dims]\n",
    "        d = \",\".join(strs)\n",
    "        key = \"x\" + d\n",
    "        sides[key] =   sides.get(key,0)+1\n",
    "        key = \"y\" + d\n",
    "        sides[key] =   sides.get(key,0)+1\n",
    "        key = \"z\" + d\n",
    "        sides[key] =   sides.get(key,0)+1\n",
    "        strx = [str(dims[0]+1), strs[1], strs[2]]\n",
    "        key = \"x\" + \",\".join(strx)\n",
    "        sides[key] =   sides.get(key,0)-1\n",
    "        stry = [strs[0], str(dims[1]+1), strs[2]]\n",
    "        key = \"y\" + \",\".join(stry)\n",
    "        sides[key] =   sides.get(key,0)-1\n",
    "        strz = [strs[0], strs[1], str(dims[2]+1)]\n",
    "        key = \"z\" + \",\".join(strz)\n",
    "        sides[key] =   sides.get(key,0)-1\n",
    "goodSides =([(s, sides[s]) for s in sides.keys() if abs(sides[s]) == 1])\n",
    "exteriorSA = len(field2)* len(field2[0]) * 2 + len(field2)* len(field2[0][0]) * 2 + len(field2[0])* len(field2[0][0]) * 2\n",
    "print(len(goodSides)- exteriorSA)\n"
   ]
  }
 ],
 "metadata": {
  "kernelspec": {
   "display_name": "Python 3",
   "language": "python",
   "name": "python3"
  },
  "language_info": {
   "codemirror_mode": {
    "name": "ipython",
    "version": 3
   },
   "file_extension": ".py",
   "mimetype": "text/x-python",
   "name": "python",
   "nbconvert_exporter": "python",
   "pygments_lexer": "ipython3",
   "version": "3.10.6"
  },
  "orig_nbformat": 4,
  "vscode": {
   "interpreter": {
    "hash": "b0fa6594d8f4cbf19f97940f81e996739fb7646882a419484c72d19e05852a7e"
   }
  }
 },
 "nbformat": 4,
 "nbformat_minor": 2
}
