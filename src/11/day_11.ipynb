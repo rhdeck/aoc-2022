{
 "cells": [
  {
   "attachments": {},
   "cell_type": "markdown",
   "metadata": {},
   "source": [
    "## Test Data"
   ]
  },
  {
   "cell_type": "code",
   "execution_count": 20,
   "metadata": {},
   "outputs": [],
   "source": [
    "test = \"\"\"Monkey 0:\n",
    "  Starting items: 79, 98\n",
    "  Operation: new = old * 19\n",
    "  Test: divisible by 23\n",
    "    If true: throw to monkey 2\n",
    "    If false: throw to monkey 3\n",
    "\n",
    "Monkey 1:\n",
    "  Starting items: 54, 65, 75, 74\n",
    "  Operation: new = old + 6\n",
    "  Test: divisible by 19\n",
    "    If true: throw to monkey 2\n",
    "    If false: throw to monkey 0\n",
    "\n",
    "Monkey 2:\n",
    "  Starting items: 79, 60, 97\n",
    "  Operation: new = old * old\n",
    "  Test: divisible by 13\n",
    "    If true: throw to monkey 1\n",
    "    If false: throw to monkey 3\n",
    "\n",
    "Monkey 3:\n",
    "  Starting items: 74\n",
    "  Operation: new = old + 3\n",
    "  Test: divisible by 17\n",
    "    If true: throw to monkey 0\n",
    "    If false: throw to monkey 1\"\"\"\n",
    "source = test"
   ]
  },
  {
   "attachments": {},
   "cell_type": "markdown",
   "metadata": {},
   "source": [
    "## Submission Data"
   ]
  },
  {
   "cell_type": "code",
   "execution_count": 21,
   "metadata": {},
   "outputs": [],
   "source": [
    "source = open(\"./day_11.txt\").read()"
   ]
  },
  {
   "cell_type": "code",
   "execution_count": 22,
   "metadata": {},
   "outputs": [],
   "source": [
    "## Part 0: Class for monkey business"
   ]
  },
  {
   "cell_type": "code",
   "execution_count": 23,
   "metadata": {},
   "outputs": [],
   "source": [
    "import math\n",
    "class Monkey:\n",
    "    monkeys = []\n",
    "    controlFunction = lambda self, x: math.floor(x / 3)\n",
    "\n",
    "    def __init__(self, text):\n",
    "        lines = text.splitlines()\n",
    "        self.items = [int(i) for i in lines[1].split(\": \")[1].split(\", \")]\n",
    "        self.op = lines[2].split(\"= \")[1]\n",
    "        self.test = int(lines[3].split(\" \")[-1])\n",
    "        self.true = int(lines[4].split(\" \")[-1])\n",
    "        self.false = int(lines[5].split(\" \")[-1])\n",
    "        self.inspections = 0\n",
    "        self.monkeys.append(self)\n",
    "    def inspect(self):\n",
    "        for i in self.items:\n",
    "            self.inspections += 1\n",
    "            #execute operation\n",
    "            new = eval(self.op, {\"old\": i})\n",
    "            new = self.controlFunction(new)\n",
    "            if( new % self.test == 0):\n",
    "                Monkey.monkeys[self.true].items.append(new)\n",
    "            else:\n",
    "                Monkey.monkeys[self.false].items.append(new)\n",
    "        self.items = []\n",
    "\n",
    "    @classmethod \n",
    "    def execute(self):\n",
    "        for m in self.monkeys: m.inspect()"
   ]
  },
  {
   "cell_type": "code",
   "execution_count": 24,
   "metadata": {},
   "outputs": [],
   "source": [
    "monkeys = source.split(\"\\n\\n\")"
   ]
  },
  {
   "attachments": {},
   "cell_type": "markdown",
   "metadata": {},
   "source": [
    "## Part 1: Monkey business\n",
    "Score of top 2 monkeys"
   ]
  },
  {
   "cell_type": "code",
   "execution_count": 25,
   "metadata": {},
   "outputs": [
    {
     "data": {
      "text/plain": [
       "55458"
      ]
     },
     "execution_count": 25,
     "metadata": {},
     "output_type": "execute_result"
    }
   ],
   "source": [
    "import numpy\n",
    "for m in monkeys: Monkey(m)\n",
    "for i in range(20): Monkey.execute()\n",
    "numpy.prod(sorted([m.inspections for m in Monkey.monkeys])[-2:])"
   ]
  },
  {
   "attachments": {},
   "cell_type": "markdown",
   "metadata": {},
   "source": [
    "## Part 2: Scaling problems\n",
    "Because the tests are all modulos, we can safely take the modulo of the product of all the tests - or more succinctly, the least common multiple of them. \n",
    "\n",
    "(In my data they all look prime, so doesn't make a difference beyond learning how to work with reduce)"
   ]
  },
  {
   "cell_type": "code",
   "execution_count": 26,
   "metadata": {},
   "outputs": [
    {
     "data": {
      "text/plain": [
       "14508081294"
      ]
     },
     "execution_count": 26,
     "metadata": {},
     "output_type": "execute_result"
    }
   ],
   "source": [
    "# Reload the data\n",
    "Monkey.monkeys =[]; \n",
    "for m in monkeys: Monkey(m)\n",
    "Monkey.controlFunction = lambda self, x: x % numpy.lcm.reduce([m.test for m in Monkey.monkeys])\n",
    "for i in range(10000): Monkey.execute()\n",
    "numpy.prod(sorted([m.inspections for m in Monkey.monkeys])[-2:])"
   ]
  }
 ],
 "metadata": {
  "kernelspec": {
   "display_name": "Python 3",
   "language": "python",
   "name": "python3"
  },
  "language_info": {
   "codemirror_mode": {
    "name": "ipython",
    "version": 3
   },
   "file_extension": ".py",
   "mimetype": "text/x-python",
   "name": "python",
   "nbconvert_exporter": "python",
   "pygments_lexer": "ipython3",
   "version": "3.10.6"
  },
  "orig_nbformat": 4,
  "vscode": {
   "interpreter": {
    "hash": "b0fa6594d8f4cbf19f97940f81e996739fb7646882a419484c72d19e05852a7e"
   }
  }
 },
 "nbformat": 4,
 "nbformat_minor": 2
}
