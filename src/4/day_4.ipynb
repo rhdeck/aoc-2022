{
 "cells": [
  {
   "cell_type": "markdown",
   "metadata": {},
   "source": [
    "## Test Data load"
   ]
  },
  {
   "cell_type": "code",
   "execution_count": null,
   "metadata": {},
   "outputs": [],
   "source": [
    "source  = \"\"\"2-4,6-8\n",
    "2-3,4-5\n",
    "5-7,7-9\n",
    "2-8,3-7\n",
    "6-6,4-6\n",
    "2-6,4-8\"\"\""
   ]
  },
  {
   "cell_type": "markdown",
   "metadata": {},
   "source": [
    "## Real Data Load"
   ]
  },
  {
   "cell_type": "code",
   "execution_count": null,
   "metadata": {},
   "outputs": [],
   "source": [
    "source = open(\"./day_4.txt\").read()"
   ]
  },
  {
   "cell_type": "markdown",
   "metadata": {},
   "source": [
    "## Data Initialization"
   ]
  },
  {
   "cell_type": "code",
   "execution_count": null,
   "metadata": {},
   "outputs": [],
   "source": [
    "\n",
    "pairs = [[[int(z) for z in y.split(\"-\")] for y in x.split(\",\")] for x in source.splitlines()]\n",
    "pairs"
   ]
  },
  {
   "cell_type": "markdown",
   "metadata": {},
   "source": [
    "## Part 1 - Domination/subsuming a window"
   ]
  },
  {
   "cell_type": "code",
   "execution_count": null,
   "metadata": {},
   "outputs": [],
   "source": [
    "def dominate(pair1, pair2):\n",
    "    mina, maxa = pair1\n",
    "    minb, maxb = pair2\n",
    "    return mina <= minb and maxa >= maxb\n",
    "\n",
    "dominated = [x for x in pairs if dominate(x[0], x[1]) or dominate(x[1], x[0])] \n",
    "len(dominated)"
   ]
  },
  {
   "cell_type": "markdown",
   "metadata": {},
   "source": [
    "## Part 2 - overlapping windows"
   ]
  },
  {
   "cell_type": "code",
   "execution_count": null,
   "metadata": {},
   "outputs": [],
   "source": [
    "def overlap(pair1, pair2):\n",
    "    mina, maxa = pair1\n",
    "    minb, maxb = pair2\n",
    "    return mina <= minb and maxa >= maxb or minb <= mina and maxb >= maxa or mina <= minb and maxa >= minb or minb <= mina and maxb >= maxa\n",
    "\n",
    "overlaps = [x for x in pairs if overlap(x[0], x[1]) or overlap(x[1], x[0])]     # pairs.filter(pair => pairs.filter(other => other != pair).some(other => dominate(other, pair)))\n",
    "len(overlaps)"
   ]
  }
 ],
 "metadata": {
  "kernelspec": {
   "display_name": "Python 3.10.6 64-bit",
   "language": "python",
   "name": "python3"
  },
  "language_info": {
   "codemirror_mode": {
    "name": "ipython",
    "version": 3
   },
   "file_extension": ".py",
   "mimetype": "text/x-python",
   "name": "python",
   "nbconvert_exporter": "python",
   "pygments_lexer": "ipython3",
   "version": "3.10.6"
  },
  "orig_nbformat": 4,
  "vscode": {
   "interpreter": {
    "hash": "b0fa6594d8f4cbf19f97940f81e996739fb7646882a419484c72d19e05852a7e"
   }
  }
 },
 "nbformat": 4,
 "nbformat_minor": 2
}
