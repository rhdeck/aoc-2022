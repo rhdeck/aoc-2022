{
 "cells": [
  {
   "cell_type": "code",
   "execution_count": 1,
   "metadata": {},
   "outputs": [],
   "source": [
    "test = \"\"\"1\n",
    "2\n",
    "-3\n",
    "3\n",
    "-2\n",
    "0\n",
    "4\"\"\"\n",
    "source = test"
   ]
  },
  {
   "cell_type": "code",
   "execution_count": 2,
   "metadata": {},
   "outputs": [],
   "source": [
    "source = open(\"./day_20.txt\").read()"
   ]
  },
  {
   "cell_type": "code",
   "execution_count": 3,
   "metadata": {},
   "outputs": [],
   "source": [
    "import numpy\n",
    "originalNumbers = numpy.array([int(line) for line in source.splitlines()])\n",
    "index = numpy.array([i for i in range(len(originalNumbers))])"
   ]
  },
  {
   "cell_type": "code",
   "execution_count": 4,
   "metadata": {},
   "outputs": [],
   "source": [
    "def shuffle(_numbers, _index):\n",
    "    numbers = _numbers.copy()\n",
    "    index = _index.copy()  \n",
    "    for i in range(len(numbers)): numbers, index = shuffleAt(numbers,index,i)\n",
    "    return numbers,index\n",
    "\n",
    "def shuffleAt(numbers, index, i):\n",
    "    oldIndex = numpy.where(index == i)[0]\n",
    "    number = numbers[oldIndex]\n",
    "    numbers = numpy.delete(numbers, oldIndex)\n",
    "    index = numpy.delete(index, oldIndex)\n",
    "    absMovement =(abs(number)) % (len(numbers))\n",
    "    direction = numpy.sign(number)[0]\n",
    "    newIndex = oldIndex + absMovement * direction\n",
    "    if newIndex > len(numbers): newIndex = newIndex % len(numbers)\n",
    "    if direction < 0 and newIndex ==0: newIndex = len(numbers)\n",
    "    numbers= numpy.insert(numbers, newIndex, number)\n",
    "    index = numpy.insert(index, newIndex, i)\n",
    "    return numbers, index"
   ]
  },
  {
   "cell_type": "markdown",
   "metadata": {},
   "source": [
    "## Part 1: Shuffle the deck"
   ]
  },
  {
   "cell_type": "code",
   "execution_count": 5,
   "metadata": {},
   "outputs": [
    {
     "data": {
      "text/plain": [
       "(array([-9886, -5275, -9811, ..., -9374,  2290, -9427]),\n",
       " array([ 122, 1542,   96, ..., 4742, 3963, 4764]),\n",
       " [434, -390, 8677],\n",
       " 8721)"
      ]
     },
     "execution_count": 5,
     "metadata": {},
     "output_type": "execute_result"
    }
   ],
   "source": [
    "numbers, newIndex = shuffle(originalNumbers, index)\n",
    "zeroPos = numpy.where(numbers==0)[0]\n",
    "part1Answer = ([numbers[(zeroPos + n)%len(numbers)][0] for n in [1000,2000,3000]])\n",
    "numbers, newIndex, part1Answer, sum(part1Answer)\n",
    "\n",
    "# 1000%7"
   ]
  },
  {
   "cell_type": "code",
   "execution_count": 6,
   "metadata": {},
   "outputs": [],
   "source": [
    "numbers = numpy.multiply(originalNumbers, 811589153)\n",
    "newIndex = index.copy()\n",
    "for i in range(10): numbers, newIndex = shuffle(numbers, newIndex)"
   ]
  },
  {
   "cell_type": "code",
   "execution_count": 7,
   "metadata": {},
   "outputs": [
    {
     "data": {
      "text/plain": [
       "[34898333579, 763705392973, 33275155273]"
      ]
     },
     "execution_count": 7,
     "metadata": {},
     "output_type": "execute_result"
    }
   ],
   "source": [
    "zeroPos = numpy.where(numbers==0)[0]\n",
    "[numbers[(zeroPos + n)%len(numbers)][0] for n in [1000,2000,3000]]"
   ]
  },
  {
   "cell_type": "code",
   "execution_count": 8,
   "metadata": {},
   "outputs": [
    {
     "data": {
      "text/plain": [
       "831878881825"
      ]
     },
     "execution_count": 8,
     "metadata": {},
     "output_type": "execute_result"
    }
   ],
   "source": [
    "part2Answer = sum([numbers[(zeroPos + n)%len(numbers)][0] for n in [1000,2000,3000]])\n",
    "part2Answer"
   ]
  }
 ],
 "metadata": {
  "kernelspec": {
   "display_name": "Python 3",
   "language": "python",
   "name": "python3"
  },
  "language_info": {
   "codemirror_mode": {
    "name": "ipython",
    "version": 3
   },
   "file_extension": ".py",
   "mimetype": "text/x-python",
   "name": "python",
   "nbconvert_exporter": "python",
   "pygments_lexer": "ipython3",
   "version": "3.10.6"
  },
  "orig_nbformat": 4,
  "vscode": {
   "interpreter": {
    "hash": "b0fa6594d8f4cbf19f97940f81e996739fb7646882a419484c72d19e05852a7e"
   }
  }
 },
 "nbformat": 4,
 "nbformat_minor": 2
}
