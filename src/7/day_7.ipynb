{
 "cells": [
  {
   "cell_type": "markdown",
   "metadata": {},
   "source": [
    "## Step 0: Test data"
   ]
  },
  {
   "cell_type": "code",
   "execution_count": 1,
   "metadata": {},
   "outputs": [],
   "source": [
    "test=  \"\"\"$ cd /\n",
    "$ ls\n",
    "dir a\n",
    "14848514 b.txt\n",
    "8504156 c.dat\n",
    "dir d\n",
    "$ cd a\n",
    "$ ls\n",
    "dir e\n",
    "29116 f\n",
    "2557 g\n",
    "62596 h.lst\n",
    "$ cd e\n",
    "$ ls\n",
    "584 i\n",
    "$ cd ..\n",
    "$ cd ..\n",
    "$ cd d\n",
    "$ ls\n",
    "4060174 j\n",
    "8033020 d.log\n",
    "5626152 d.ext\n",
    "7214296 k\"\"\"\n",
    "\n",
    "source = test"
   ]
  },
  {
   "cell_type": "markdown",
   "metadata": {},
   "source": [
    "## Step 0: Load the data"
   ]
  },
  {
   "cell_type": "code",
   "execution_count": 2,
   "metadata": {},
   "outputs": [],
   "source": [
    "source = open(\"./day_7.txt\").read()"
   ]
  },
  {
   "cell_type": "markdown",
   "metadata": {},
   "source": [
    "## Parse the input into commands\n",
    "split on the dollar sign because that indicates a new command, while mere line breaks separate input from output (e.g. for ls)"
   ]
  },
  {
   "cell_type": "code",
   "execution_count": 3,
   "metadata": {},
   "outputs": [],
   "source": [
    "commands = [s.strip().splitlines() for s in source.split(\"$ \") if len(s.strip()) >0]\n",
    "#commands"
   ]
  },
  {
   "cell_type": "markdown",
   "metadata": {},
   "source": [
    "## Create a tree class that contains child trees.\n",
    "Because we want to execute on the list comprehension, we treat the root as a semi-class-function. That way we run the \"execute\" passing reference to the top level."
   ]
  },
  {
   "cell_type": "code",
   "execution_count": 4,
   "metadata": {},
   "outputs": [],
   "source": [
    "\n",
    "class Tree:\n",
    "    def __init__(self, parent=None):\n",
    "        self.tree = {}\n",
    "        self.pointer = self\n",
    "        self.parent = parent\n",
    "        self.dirs = {}\n",
    "        self.files = {}\n",
    "       # self.parent = \n",
    "    def execute(self, arr):\n",
    "        commandline = arr[0]\n",
    "        command = commandline.split()[0]\n",
    "        if command == \"cd\":\n",
    "            path = commandline.split()[1]\n",
    "            if path == \"/\":\n",
    "                self.pointer = self\n",
    "            elif path == \"..\":\n",
    "                self.pointer =self.pointer.parent\n",
    "            else: \n",
    "                self.pointer = self.pointer.dirs[path]\n",
    "        elif command == \"ls\":\n",
    "            for item in arr[1:]:\n",
    "                if item.startswith(\"dir\"):\n",
    "                    self.pointer.dirs[item[4:]] = Tree(self.pointer)\n",
    "                else:\n",
    "                    self.pointer.files[item.split()[1]] = int(item.split()[0])\n",
    "    def size(self):\n",
    "       return sum([file for file in self.files.values()]) +    sum([dir.size() for dir in self.dirs.values()])\n",
    "    def recurse(self, l):\n",
    "        l(self)\n",
    "        for dir in self.dirs.values():\n",
    "            dir.recurse(l)\n"
   ]
  },
  {
   "cell_type": "markdown",
   "metadata": {},
   "source": [
    "## Populate the tree with the commands"
   ]
  },
  {
   "cell_type": "code",
   "execution_count": 5,
   "metadata": {},
   "outputs": [],
   "source": [
    "t = Tree()\n",
    "_ = [t.execute(arr) for arr in commands]"
   ]
  },
  {
   "cell_type": "markdown",
   "metadata": {},
   "source": []
  },
  {
   "cell_type": "markdown",
   "metadata": {},
   "source": [
    "## Part 1: Get the sum of small directories\n",
    "1. Find the directories with less than 100k, and sum them "
   ]
  },
  {
   "cell_type": "code",
   "execution_count": 6,
   "metadata": {},
   "outputs": [
    {
     "data": {
      "text/plain": [
       "1447046"
      ]
     },
     "execution_count": 6,
     "metadata": {},
     "output_type": "execute_result"
    }
   ],
   "source": [
    "\n",
    "dirs = []\n",
    "t.recurse(lambda l: dirs.append(l.size()))\n",
    "#t.tree\n",
    "sum([dir for dir in dirs if dir < 100000])"
   ]
  },
  {
   "cell_type": "markdown",
   "metadata": {},
   "source": [
    "## Part 2: Find the smallest directory that would free up enough space.\n",
    "1. Find the overage: the amount of free space we are missing that we have to recover\n",
    "2. Find the smallest path in the tree that has more than the overage bytes"
   ]
  },
  {
   "cell_type": "code",
   "execution_count": 7,
   "metadata": {},
   "outputs": [
    {
     "data": {
      "text/plain": [
       "578710"
      ]
     },
     "execution_count": 7,
     "metadata": {},
     "output_type": "execute_result"
    }
   ],
   "source": [
    "overage = 70000000 - t.size() - 30000000\n",
    "dirs = []\n",
    "t.recurse(lambda l: dirs.append(l.size()))\n",
    "min([dir for dir in dirs if dir > (overage * -1)])"
   ]
  }
 ],
 "metadata": {
  "kernelspec": {
   "display_name": "Python 3.10.6 64-bit",
   "language": "python",
   "name": "python3"
  },
  "language_info": {
   "codemirror_mode": {
    "name": "ipython",
    "version": 3
   },
   "file_extension": ".py",
   "mimetype": "text/x-python",
   "name": "python",
   "nbconvert_exporter": "python",
   "pygments_lexer": "ipython3",
   "version": "3.10.6"
  },
  "orig_nbformat": 4,
  "vscode": {
   "interpreter": {
    "hash": "b0fa6594d8f4cbf19f97940f81e996739fb7646882a419484c72d19e05852a7e"
   }
  }
 },
 "nbformat": 4,
 "nbformat_minor": 2
}
