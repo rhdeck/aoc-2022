{
 "cells": [
  {
   "cell_type": "code",
   "execution_count": 1,
   "metadata": {},
   "outputs": [],
   "source": [
    "test = \"\"\"1=-0-2\n",
    "12111\n",
    "2=0=\n",
    "21\n",
    "2=01\n",
    "111\n",
    "20012\n",
    "112\n",
    "1=-1=\n",
    "1-12\n",
    "12\n",
    "1=\n",
    "122\"\"\"\n",
    "source = test"
   ]
  },
  {
   "cell_type": "code",
   "execution_count": 2,
   "metadata": {},
   "outputs": [],
   "source": [
    "source = open(\"./day_25.txt\").read()"
   ]
  },
  {
   "attachments": {},
   "cell_type": "markdown",
   "metadata": {},
   "source": [
    "## Part 0.5: Parse the encoded SNAFU"
   ]
  },
  {
   "cell_type": "code",
   "execution_count": 3,
   "metadata": {},
   "outputs": [],
   "source": [
    "vals = {\n",
    "    \"=\": -2,\n",
    "    \"-\": -1,\n",
    "    \"0\": 0,\n",
    "    \"1\": 1,\n",
    "    \"2\": 2,\n",
    "}\n",
    "def parse_number(source):\n",
    "    l = list(source)\n",
    "    l.reverse()\n",
    "    val = 0\n",
    "    for int in range(len(l)): val = val + vals[l[int]] * 5 ** int\n",
    "    return val"
   ]
  },
  {
   "cell_type": "code",
   "execution_count": 4,
   "metadata": {},
   "outputs": [],
   "source": [
    "decimal = sum(parse_number(line) for line in source.splitlines())"
   ]
  },
  {
   "cell_type": "markdown",
   "metadata": {},
   "source": [
    "## Part 1: Encode the sum"
   ]
  },
  {
   "cell_type": "code",
   "execution_count": 6,
   "metadata": {},
   "outputs": [
    {
     "name": "stdout",
     "output_type": "stream",
     "text": [
      "2=-0=1-0012-=-2=0=01\n"
     ]
    }
   ],
   "source": [
    "import math\n",
    "import numpy\n",
    "def encode_number(number):\n",
    "    magnitude = int(math.log(number, 5))\n",
    "    history = []\n",
    "    currentValue = 0\n",
    "    keys = list(vals.keys())\n",
    "    values = list(vals.values())\n",
    "    for i in range(magnitude, -1, -1):\n",
    "        a = [(item[0], abs(number - currentValue - item[1]*5**i)) for item in enumerate(vals.values())]\n",
    "        a.sort(key=lambda x: x[1])\n",
    "        history.append(keys[a[0][0]])\n",
    "        currentValue = currentValue + values[a[0][0]] * 5**i\n",
    "    return \"\".join(str(x) for x in history)\n",
    "\n",
    "encoded = encode_number(decimal)\n",
    "test = parse_number(encoded)\n",
    "if(test != decimal):\n",
    "    print(\"test failed\")\n",
    "else:\n",
    "    print(encoded)"
   ]
  }
 ],
 "metadata": {
  "kernelspec": {
   "display_name": "Python 3",
   "language": "python",
   "name": "python3"
  },
  "language_info": {
   "codemirror_mode": {
    "name": "ipython",
    "version": 3
   },
   "file_extension": ".py",
   "mimetype": "text/x-python",
   "name": "python",
   "nbconvert_exporter": "python",
   "pygments_lexer": "ipython3",
   "version": "3.10.6"
  },
  "orig_nbformat": 4,
  "vscode": {
   "interpreter": {
    "hash": "b0fa6594d8f4cbf19f97940f81e996739fb7646882a419484c72d19e05852a7e"
   }
  }
 },
 "nbformat": 4,
 "nbformat_minor": 2
}
