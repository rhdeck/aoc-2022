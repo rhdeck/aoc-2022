{
 "cells": [
  {
   "cell_type": "code",
   "execution_count": 8,
   "metadata": {},
   "outputs": [],
   "source": [
    "test = \"\"\"Sabqponm\n",
    "abcryxxl\n",
    "accszExk\n",
    "acctuvwj\n",
    "abdefghi\"\"\"\n",
    "source = test"
   ]
  },
  {
   "cell_type": "code",
   "execution_count": 9,
   "metadata": {},
   "outputs": [],
   "source": [
    "source = open(\"./day_12.txt\").read()"
   ]
  },
  {
   "cell_type": "code",
   "execution_count": 10,
   "metadata": {},
   "outputs": [],
   "source": [
    "import numpy\n",
    "\n",
    "start = None\n",
    "end = None\n",
    "alphabet = list(\"abcdefghijklmnopqrstuvwxyz\")\n",
    "invabc = {v: k for k, v in enumerate(alphabet)}\n",
    "\n",
    "rows = [list(row) for row in source.splitlines()]\n",
    "for r, row in enumerate(rows):\n",
    "    for i, letter in enumerate(row):\n",
    "        if(letter == \"E\"): \n",
    "            letter = \"z\"\n",
    "            end = [i,r]\n",
    "        if(letter == \"S\"): \n",
    "            letter = 'a'\n",
    "            start = [i,r]\n",
    "        row[i] = invabc[letter]"
   ]
  },
  {
   "cell_type": "code",
   "execution_count": 11,
   "metadata": {},
   "outputs": [],
   "source": [
    "\n",
    "class Move: \n",
    "    directions = (\n",
    "        [1, 0],\n",
    "        [0, 1],\n",
    "        [0, -1],\n",
    "        [-1, 0]\n",
    "    )\n",
    "    def __init__(self, pos, past = []):\n",
    "        self.pos = pos\n",
    "        self.past = past\n",
    "    def turn(self):\n",
    "        if(self.min > -1 and len(self.past) > self.min): return False\n",
    "        s = str(self.pos)\n",
    "        if s in Move.history and  Move.history[s] <= len(self.past): return False\n",
    "        Move.history[str(self.pos)]=len(self.past)\n",
    "        for d in self.directions: \n",
    "            result = self.attempt(d)\n",
    "            if(result != False): return result\n",
    "        return False\n",
    "    def attempt(self, direction):\n",
    "        testpos = numpy.sum(numpy.array([self.pos, direction]), axis=0);\n",
    "        if(min(testpos) < 0): return False\n",
    "        if(testpos[0] >= len(self.grid[0])): return False\n",
    "        if(testpos[1] >= len(self.grid)): return False\n",
    "        if str(testpos) in Move.history: return False\n",
    "        newval =  self.grid[testpos[1]][testpos[0]]\n",
    "        current = self.grid[self.pos[1]][self.pos[0]]\n",
    "        if newval > current + 1: return False\n",
    "        if numpy.sum(numpy.abs(numpy.diff([testpos, self.end], axis=0))) == 0: return len(self.past)\n",
    "        Move.todos.append(Move(testpos, [*self.past, str(testpos)]));\n",
    "        return False\n",
    "    @classmethod\n",
    "    def executeOnce(cls):\n",
    "        todos = cls.todos\n",
    "        cls.todos = []\n",
    "        for todo in todos: \n",
    "            result = todo.turn()\n",
    "            if result != False: return result\n",
    "        return False\n",
    "    @classmethod\n",
    "    def execute(cls, maxTurns = 10000):\n",
    "        # Maxturns are to prevent infinite loops - but this is basically a while loop\n",
    "        for i in range(maxTurns):\n",
    "            if len(cls.todos) == 0: return False\n",
    "            result = cls.executeOnce()\n",
    "            if result != False: return result\n",
    "    @classmethod \n",
    "    def start(cls, end, grid, m = -1):\n",
    "        cls.history = {}\n",
    "        cls.end = numpy.array(end)\n",
    "        cls.grid = grid\n",
    "        cls.min = m\n",
    "\n"
   ]
  },
  {
   "attachments": {},
   "cell_type": "markdown",
   "metadata": {},
   "source": [
    "## Part 1 shortest path"
   ]
  },
  {
   "cell_type": "code",
   "execution_count": 12,
   "metadata": {},
   "outputs": [
    {
     "data": {
      "text/plain": [
       "467"
      ]
     },
     "execution_count": 12,
     "metadata": {},
     "output_type": "execute_result"
    }
   ],
   "source": [
    "Move.start( end, rows)\n",
    "Move.todos = [Move(start)]\n",
    "m = Move.execute() \n",
    "m"
   ]
  },
  {
   "attachments": {},
   "cell_type": "markdown",
   "metadata": {},
   "source": [
    "## Part 2: Shortest path from an \"a\"\n",
    "Note: \"Fonzes\" are because of the catchphrase. "
   ]
  },
  {
   "cell_type": "markdown",
   "metadata": {},
   "source": []
  },
  {
   "cell_type": "code",
   "execution_count": 13,
   "metadata": {},
   "outputs": [],
   "source": [
    "#find all as\n",
    "fonzes = [[cell, row] for cell in range(len(rows[0])) for row in [row for row in range(len(rows))] if rows[row][cell] == 0]\n",
    "for fonz in fonzes:\n",
    "    Move.start( end, rows, m)\n",
    "    Move.todos = [Move(fonz)]\n",
    "    test = Move.execute() \n",
    "    if test and (m == -1 or test < m): m = test"
   ]
  },
  {
   "cell_type": "code",
   "execution_count": 14,
   "metadata": {},
   "outputs": [
    {
     "data": {
      "text/plain": [
       "458"
      ]
     },
     "execution_count": 14,
     "metadata": {},
     "output_type": "execute_result"
    }
   ],
   "source": [
    "m"
   ]
  }
 ],
 "metadata": {
  "kernelspec": {
   "display_name": "Python 3",
   "language": "python",
   "name": "python3"
  },
  "language_info": {
   "codemirror_mode": {
    "name": "ipython",
    "version": 3
   },
   "file_extension": ".py",
   "mimetype": "text/x-python",
   "name": "python",
   "nbconvert_exporter": "python",
   "pygments_lexer": "ipython3",
   "version": "3.10.6"
  },
  "orig_nbformat": 4,
  "vscode": {
   "interpreter": {
    "hash": "b0fa6594d8f4cbf19f97940f81e996739fb7646882a419484c72d19e05852a7e"
   }
  }
 },
 "nbformat": 4,
 "nbformat_minor": 2
}
