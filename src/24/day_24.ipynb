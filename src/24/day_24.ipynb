{
 "cells": [
  {
   "cell_type": "code",
   "execution_count": 129,
   "metadata": {},
   "outputs": [],
   "source": [
    "test = \"\"\"#.######\n",
    "#>>.<^<#\n",
    "#.<..<<#\n",
    "#>v.><>#\n",
    "#<^v^^>#\n",
    "######.#\"\"\"\n",
    "source = test"
   ]
  },
  {
   "cell_type": "code",
   "execution_count": 130,
   "metadata": {},
   "outputs": [],
   "source": [
    "source = open(\"./day_24.txt\").read()"
   ]
  },
  {
   "cell_type": "code",
   "execution_count": 131,
   "metadata": {},
   "outputs": [],
   "source": [
    "import numpy\n",
    "cells = [(xtuple[0], ytuple[0], xtuple[1])  for ytuple in enumerate(source.splitlines()) for xtuple in enumerate(ytuple[1])]\n",
    "\n",
    "height = len(source.splitlines())\n",
    "width = len(source.splitlines()[0])\n",
    "fieldWidth = width -2\n",
    "fieldHeight = height -2\n",
    "startPos = (1,0)\n",
    "endPos = (fieldWidth, height-1)\n",
    "\n",
    "dirdict = {\n",
    "    \">\": (1, 0),\n",
    "    \"<\": (-1, 0),\n",
    "    \"^\": (0, -1),\n",
    "    \"v\": (0, 1),\n",
    "}\n",
    "storms = numpy.array([((cell[0], cell[1]), dirdict.get(cell[2])) for cell in cells if cell[2] in dirdict])\n",
    "stormPositions = storms[:,0]\n",
    "stormDirections = storms[:, 1]"
   ]
  },
  {
   "cell_type": "code",
   "execution_count": 132,
   "metadata": {},
   "outputs": [],
   "source": [
    "def viz_storms(stormPositions, myposition):\n",
    "    field = numpy.zeros((height, width), dtype=numpy.int8)\n",
    "    for pos in stormPositions:\n",
    "        field[pos[1], pos[0]] = 1\n",
    "    for x in range(width):\n",
    "        field[0,x] = 9\n",
    "        field[height-1,x] = 9\n",
    "    for y in range(height):\n",
    "        field[y,0] = 9\n",
    "        field[y,width-1] = 9\n",
    "    field[startPos[1], startPos[0]] = 8\n",
    "    field[0,0] = 9\n",
    "    field[1,0] = 9\n",
    "    field[0,2] = 9\n",
    "    field[endPos[1], endPos[0]] = 7\n",
    "    field[myposition[1], myposition[0]] = 2\n",
    "    print(\"\\n\".join([\"\".join([\" \" if cell == 0 else str(cell) for cell in row]) for row in field]))\n",
    "\n",
    "SPACE = \" \"\n",
    "WALL  = \"#\"\n",
    "def viz_storms_ascii(stormPositions, myPosition):\n",
    "    tuplePositions = [tuple(pos) for pos in stormPositions]\n",
    "    out = \"Starting with e of \" + str(myPosition) + \"\\n\"\n",
    "    for y in range(height):\n",
    "        for x in range(width):\n",
    "            if(x,y) == tuple(myPosition):\n",
    "                out = out + \"E\"\n",
    "            elif (x,y) == startPos:\n",
    "                out = out + SPACE\n",
    "            elif (x,y) == endPos:\n",
    "                out = out + SPACE\n",
    "            elif (x,y) in tuplePositions:\n",
    "                possibles = [i for i in enumerate(tuplePositions) if i[1] == (x , y)]\n",
    "                if len(possibles) == 1:\n",
    "                    index = possibles[0][0]\n",
    "                    stormDirection = tuple(stormDirections[index])\n",
    "                    dirkey = list(dirdict.keys())[list(dirdict.values()).index(stormDirection)]\n",
    "                    out = out + dirkey\n",
    "                else:\n",
    "                    out = out + str(len(possibles))\n",
    "            elif x == 0 or y == 0 or x == width-1 or y == height-1:\n",
    "                out = out + WALL\n",
    "            else:\n",
    "                out = out + SPACE\n",
    "        out = out + \"\\n\"\n",
    "    print(out)"
   ]
  },
  {
   "cell_type": "code",
   "execution_count": 133,
   "metadata": {},
   "outputs": [],
   "source": [
    "from time import sleep\n",
    "from IPython.display import clear_output\n",
    "moves = [(-1,0),(1,0), (0,1), (0,-1), (0,0)]\n",
    "def travel(stormPositions, startPos, endPos):\n",
    "    stormdict = {}\n",
    "    possibles = [startPos]\n",
    "    counter = 0\n",
    "    win = False\n",
    "    while win == False:\n",
    "        if(len(possibles) == 0):\n",
    "            print(\"Out of choices\")\n",
    "            break\n",
    "        newStormPositions = numpy.mod(stormPositions +  (-1,-1) + stormDirections, (fieldWidth, height-2)) + (1,1)\n",
    "        stormPositions = newStormPositions\n",
    "        stormdict = {}\n",
    "        for i, pos in enumerate(stormPositions):\n",
    "            stormdict[tuple(pos)] = stormdict.get(tuple(pos), 0) + 1\n",
    "        newpossibles = []\n",
    "        for pos in possibles:\n",
    "            if(tuple(pos) == endPos):\n",
    "                win = True\n",
    "                break\n",
    "            for move in moves:\n",
    "                newPos = tuple(numpy.add(pos,move))\n",
    "                x,y = newPos\n",
    "                if(x < 1 or y < 1 or x > fieldWidth or y > fieldHeight) and tuple(newPos) != endPos and tuple(newPos) != startPos: continue\n",
    "                if(stormdict.get(tuple(newPos)) != None):continue\n",
    "                if newPos not in newpossibles: newpossibles.append(newPos)\n",
    "        if win == False: counter = counter + 1\n",
    "        possibles = list(set(newpossibles))\n",
    "    return counter, stormPositions\n"
   ]
  },
  {
   "attachments": {},
   "cell_type": "markdown",
   "metadata": {},
   "source": [
    "## Part 1: There"
   ]
  },
  {
   "cell_type": "code",
   "execution_count": 134,
   "metadata": {},
   "outputs": [
    {
     "name": "stdout",
     "output_type": "stream",
     "text": [
      "Part 1 answer is 240\n"
     ]
    }
   ],
   "source": [
    "\n",
    "steps = travel(stormPositions.copy(), startPos, endPos)\n",
    "print(\"Part 1 answer is\", steps[0])"
   ]
  },
  {
   "cell_type": "markdown",
   "metadata": {},
   "source": [
    "## Part 2: ...and Back again, and there again"
   ]
  },
  {
   "cell_type": "code",
   "execution_count": 135,
   "metadata": {},
   "outputs": [
    {
     "name": "stdout",
     "output_type": "stream",
     "text": [
      "Part 2 answer is 717\n"
     ]
    }
   ],
   "source": [
    "\n",
    "thereSteps, stormPositions = travel(stormPositions.copy(), startPos, endPos)\n",
    "backAgainSteps, stormPositions = travel(stormPositions, endPos, startPos)\n",
    "thereAgainSteps, stormPositions = travel(stormPositions, startPos, endPos)\n",
    "print(\"Part 2 answer is\", thereSteps + backAgainSteps + thereAgainSteps + 2)"
   ]
  }
 ],
 "metadata": {
  "kernelspec": {
   "display_name": "Python 3",
   "language": "python",
   "name": "python3"
  },
  "language_info": {
   "codemirror_mode": {
    "name": "ipython",
    "version": 3
   },
   "file_extension": ".py",
   "mimetype": "text/x-python",
   "name": "python",
   "nbconvert_exporter": "python",
   "pygments_lexer": "ipython3",
   "version": "3.10.6"
  },
  "orig_nbformat": 4,
  "vscode": {
   "interpreter": {
    "hash": "b0fa6594d8f4cbf19f97940f81e996739fb7646882a419484c72d19e05852a7e"
   }
  }
 },
 "nbformat": 4,
 "nbformat_minor": 2
}
