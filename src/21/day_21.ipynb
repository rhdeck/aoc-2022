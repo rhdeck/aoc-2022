{
 "cells": [
  {
   "cell_type": "code",
   "execution_count": 1,
   "metadata": {},
   "outputs": [],
   "source": [
    "test = \"\"\"root: pppw + sjmn\n",
    "dbpl: 5\n",
    "cczh: sllz + lgvd\n",
    "zczc: 2\n",
    "ptdq: humn - dvpt\n",
    "dvpt: 3\n",
    "lfqf: 4\n",
    "humn: 5\n",
    "ljgn: 2\n",
    "sjmn: drzm * dbpl\n",
    "sllz: 4\n",
    "pppw: cczh / lfqf\n",
    "lgvd: ljgn * ptdq\n",
    "drzm: hmdt - zczc\n",
    "hmdt: 32\"\"\"\n",
    "source = test"
   ]
  },
  {
   "cell_type": "code",
   "execution_count": 2,
   "metadata": {},
   "outputs": [],
   "source": [
    "source = open(\"./day_21.txt\").read()"
   ]
  },
  {
   "cell_type": "code",
   "execution_count": 3,
   "metadata": {},
   "outputs": [],
   "source": [
    "lines = [line.replace(\":\", \" =\") for line in source.splitlines()]\n",
    "lines\n",
    "linedict = {line.split(\" = \")[0]: line for line in lines}\n",
    "people = {record[0]: [record[1][0], record[1][2]] for record in [[key, linedict[key].split(\" = \")[1].split(' ')] for key in linedict.keys()] if len(record[1]) > 1}"
   ]
  },
  {
   "attachments": {},
   "cell_type": "markdown",
   "metadata": {},
   "source": [
    "## Part 1: Run the function"
   ]
  },
  {
   "cell_type": "code",
   "execution_count": 4,
   "metadata": {},
   "outputs": [
    {
     "data": {
      "text/plain": [
       "223971851179174"
      ]
     },
     "execution_count": 4,
     "metadata": {},
     "output_type": "execute_result"
    }
   ],
   "source": [
    "import numpy\n",
    "dependencies = ['root']\n",
    "output = []\n",
    "while len(dependencies) > 0:\n",
    "    _dependencies = dependencies.copy()\n",
    "    dependencies = []\n",
    "    for key in _dependencies:\n",
    "        output.append(linedict[key])\n",
    "        if people.get(key)!= None:\n",
    "            dependencies.append(people[key][0])\n",
    "            dependencies.append(people[key][1])\n",
    "output.reverse()\n",
    "code = \"\\n\".join(output) + \"\\n\" + \"root\"\n",
    "root = 0\n",
    "exec(code)\n",
    "int(root)"
   ]
  },
  {
   "attachments": {},
   "cell_type": "markdown",
   "metadata": {},
   "source": [
    "## Part 2: Gradient Descent FTW! "
   ]
  },
  {
   "cell_type": "code",
   "execution_count": 5,
   "metadata": {},
   "outputs": [],
   "source": [
    "pieces = linedict['root'].split(\" \")\n",
    "linedict['root'] = \"root = \" + pieces[2] + \" - \" + pieces[4]\n",
    "shout = int(linedict['humn'].split(\" \").pop())\n",
    "dependencies = ['root']\n",
    "linedict['humn'] = ''\n",
    "output = []\n",
    "while len(dependencies) > 0:\n",
    "    _dependencies = dependencies.copy()\n",
    "    dependencies = []\n",
    "    for key in _dependencies:\n",
    "        output.append(linedict[key])\n",
    "        if people.get(key)!= None:\n",
    "            dependencies.append(people[key][0])\n",
    "            dependencies.append(people[key][1])\n",
    "output.reverse()\n",
    "code =  \"\\n\".join([\"def test(humn):\", *[\"  \" + o for o in output if len(o) > 0], \"  return root\"])\n",
    "exec(code)\n",
    "# print(code)"
   ]
  },
  {
   "cell_type": "code",
   "execution_count": 6,
   "metadata": {},
   "outputs": [
    {
     "data": {
      "text/plain": [
       "3379022190351"
      ]
     },
     "execution_count": 6,
     "metadata": {},
     "output_type": "execute_result"
    }
   ],
   "source": [
    "import math\n",
    "# shout = 500\n",
    "error = 1.0\n",
    "countdown = 1000\n",
    "lastError = 1000\n",
    "lastMovement = 1000\n",
    "while True:\n",
    "    error = test(int(shout))\n",
    "    if(error == 0): break\n",
    "    errorMag = abs(error)\n",
    "    if errorMag > lastError: lastMovement = -1 * lastMovement / 2\n",
    "    elif errorMag < abs(lastError): lastMovement = lastMovement * 1.1\n",
    "    else: lastMovement = lastMovement * 0.9\n",
    "    shout = shout + int(lastMovement)\n",
    "    lastError = errorMag\n",
    "    countdown -= 1\n",
    "    if(countdown == 0): break\n",
    "shout"
   ]
  }
 ],
 "metadata": {
  "kernelspec": {
   "display_name": "Python 3",
   "language": "python",
   "name": "python3"
  },
  "language_info": {
   "codemirror_mode": {
    "name": "ipython",
    "version": 3
   },
   "file_extension": ".py",
   "mimetype": "text/x-python",
   "name": "python",
   "nbconvert_exporter": "python",
   "pygments_lexer": "ipython3",
   "version": "3.10.6"
  },
  "orig_nbformat": 4,
  "vscode": {
   "interpreter": {
    "hash": "b0fa6594d8f4cbf19f97940f81e996739fb7646882a419484c72d19e05852a7e"
   }
  }
 },
 "nbformat": 4,
 "nbformat_minor": 2
}
