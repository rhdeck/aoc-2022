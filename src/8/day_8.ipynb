{
 "cells": [
  {
   "cell_type": "code",
   "execution_count": 1,
   "metadata": {},
   "outputs": [],
   "source": [
    "test = \"\"\"30373\n",
    "25512\n",
    "65332\n",
    "33549\n",
    "35390\"\"\"\n",
    "source = test"
   ]
  },
  {
   "cell_type": "code",
   "execution_count": 2,
   "metadata": {},
   "outputs": [],
   "source": [
    "source = open(\"./day_8.txt\").read()"
   ]
  },
  {
   "cell_type": "code",
   "execution_count": 3,
   "metadata": {},
   "outputs": [],
   "source": [
    "grid = [list(row) for row in source.splitlines()]"
   ]
  },
  {
   "cell_type": "markdown",
   "metadata": {},
   "source": [
    "## Part 1\n",
    "Note use of zip to \"play on easy\" by transposing the grid and staying within the simple row mechanics"
   ]
  },
  {
   "cell_type": "code",
   "execution_count": 4,
   "metadata": {},
   "outputs": [
    {
     "data": {
      "text/plain": [
       "1794"
      ]
     },
     "execution_count": 4,
     "metadata": {},
     "output_type": "execute_result"
    }
   ],
   "source": [
    "def is_visible_row(grid, x, y):\n",
    "    me = grid[y][x]\n",
    "    maxleft = max([grid[y][i] for i in range(x-1, -1, -1)])\n",
    "    if(me > maxleft): return True\n",
    "    maxright = max([grid[y][i] for i in range(x+1, len(grid[0]))])\n",
    "    if(me > maxright): return True\n",
    "    return False    \n",
    "\n",
    "def is_visible(grid, x, y):\n",
    "    if x == 0 or y == 0 or x == len(grid[0])-1 or y == len(grid)-1:\n",
    "        return True\n",
    "    if(is_visible_row(grid, x, y)): return True\n",
    "    sideways = [char for char in zip(*grid)]\n",
    "    if(is_visible_row(sideways, y,x)): return True\n",
    "    return False\n",
    "\n",
    "len([x for x in [is_visible(grid, x, y) for x in range(len(grid[0])) for y in range(len(grid))] if x == True])"
   ]
  },
  {
   "cell_type": "markdown",
   "metadata": {},
   "source": [
    "## Part 2\n",
    "Lesson: can't run summary functions on empty lists (e.g the sum of [] is an error!)"
   ]
  },
  {
   "cell_type": "code",
   "execution_count": 5,
   "metadata": {},
   "outputs": [],
   "source": [
    "def scenic_distance(value, trees):\n",
    "    if(len(trees) ==0): return 0\n",
    "    seq = [tree+1 for tree in range(len(trees)) if trees[tree] >= value]\n",
    "    if(len(seq) == 0): return len(trees)\n",
    "    return min(seq)"
   ]
  },
  {
   "cell_type": "code",
   "execution_count": 6,
   "metadata": {},
   "outputs": [],
   "source": [
    "def scenic_distance_row(grid, x, y):\n",
    "    me = grid[y][x]\n",
    "    left = scenic_distance(me, [grid[y][i] for i in range(x-1, -1, -1)])\n",
    "    right = scenic_distance(me, [grid[y][i] for i in range(x+1, len(grid[0]))])\n",
    "    return [left, right]"
   ]
  },
  {
   "cell_type": "code",
   "execution_count": 7,
   "metadata": {},
   "outputs": [],
   "source": [
    "def scenic_distance_grid(grid, x,y):\n",
    "    return [*scenic_distance_row(grid,x,y), *scenic_distance_row([char for char in zip(*grid)], y, x)]"
   ]
  },
  {
   "cell_type": "code",
   "execution_count": 8,
   "metadata": {},
   "outputs": [
    {
     "data": {
      "text/plain": [
       "199272"
      ]
     },
     "execution_count": 8,
     "metadata": {},
     "output_type": "execute_result"
    }
   ],
   "source": [
    "from math import prod \n",
    "max([prod(x) for x in [scenic_distance_grid(grid, x, y) for x in range(len(grid[0])) for y in range(len(grid))]])"
   ]
  }
 ],
 "metadata": {
  "kernelspec": {
   "display_name": "Python 3.10.6 64-bit",
   "language": "python",
   "name": "python3"
  },
  "language_info": {
   "codemirror_mode": {
    "name": "ipython",
    "version": 3
   },
   "file_extension": ".py",
   "mimetype": "text/x-python",
   "name": "python",
   "nbconvert_exporter": "python",
   "pygments_lexer": "ipython3",
   "version": "3.10.6"
  },
  "orig_nbformat": 4,
  "vscode": {
   "interpreter": {
    "hash": "b0fa6594d8f4cbf19f97940f81e996739fb7646882a419484c72d19e05852a7e"
   }
  }
 },
 "nbformat": 4,
 "nbformat_minor": 2
}
