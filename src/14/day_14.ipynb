{
 "cells": [
  {
   "cell_type": "code",
   "execution_count": 1,
   "metadata": {},
   "outputs": [],
   "source": [
    "test = \"\"\"498,4 -> 498,6 -> 496,6\n",
    "503,4 -> 502,4 -> 502,9 -> 494,9\"\"\"\n",
    "source = test"
   ]
  },
  {
   "cell_type": "code",
   "execution_count": 2,
   "metadata": {},
   "outputs": [],
   "source": [
    "source = open(\"./day_14.txt\").read()"
   ]
  },
  {
   "cell_type": "code",
   "execution_count": 3,
   "metadata": {},
   "outputs": [],
   "source": [
    "graphs = [[[int(j) for j in i.split(\",\")] for i in line.split(\" -> \")] for line in source.splitlines()]\n",
    "# turn graphs into lines\n",
    "lines = []\n",
    "for graph in graphs:\n",
    "    for i in range(len(graph)-1):\n",
    "        lines.append((graph[i], graph[i+1]))"
   ]
  },
  {
   "cell_type": "code",
   "execution_count": 4,
   "metadata": {},
   "outputs": [],
   "source": [
    "import numpy\n",
    "from IPython.display import clear_output"
   ]
  },
  {
   "cell_type": "code",
   "execution_count": 5,
   "metadata": {},
   "outputs": [],
   "source": [
    "def getGrid(lines, minx, miny, maxx, maxy):\n",
    "    grid = numpy.zeros((maxy + 1, maxx - minx + 1), dtype=int)\n",
    "    for line in lines:\n",
    "        x1, y1 = line[0]\n",
    "        x2, y2 = line[1]\n",
    "        _minx = min(x1, x2)\n",
    "        _maxx = max(x1, x2)\n",
    "        _miny = min(y1, y2)\n",
    "        _maxy = max(y1, y2)\n",
    "        for x in range(_minx, _maxx+1):\n",
    "            for y in range(_miny, _maxy + 1):\n",
    "                grid[y, x - minx] = 1\n",
    "    startSand = (500 - minx, 0)\n",
    "    return grid, startSand\n",
    "\n",
    "def printGrid(grid):\n",
    "    str = \"\\n\".join([\"\".join([\"#\" if i == 1 else \"o\" if i == 2 else \".\" for i in row]) for row in grid])\n",
    "    clear_output(wait=True)\n",
    "    print(str, flush=True)"
   ]
  },
  {
   "cell_type": "code",
   "execution_count": 6,
   "metadata": {},
   "outputs": [],
   "source": [
    "def move(grid, pos):\n",
    "    x,y = pos\n",
    "    if(y == grid.shape[0]):\n",
    "        return False\n",
    "    if(x == grid.shape[1]):\n",
    "        return False\n",
    "    if(x < 0):\n",
    "        return False\n",
    "    if grid[y+1, x] == 0 :\n",
    "        return (x, y+1)\n",
    "    elif x == 0:\n",
    "        return False\n",
    "    elif grid[y+1,x-1] == 0:\n",
    "        return (x-1, y+1)\n",
    "    elif x == grid.shape[1]-1:\n",
    "        return False\n",
    "    elif grid[y+1, x+1] == 0:\n",
    "        return (x+1, y+1)\n",
    "    else:\n",
    "        return x,y"
   ]
  },
  {
   "cell_type": "code",
   "execution_count": 7,
   "metadata": {},
   "outputs": [],
   "source": [
    "def drop(grid, startPos):\n",
    "    oldPos = startPos\n",
    "    while(True):\n",
    "        newPos = move(grid, oldPos)\n",
    "        if(newPos == False): return False\n",
    "        if(newPos == oldPos): return(newPos)\n",
    "        else: oldPos = newPos"
   ]
  },
  {
   "cell_type": "markdown",
   "metadata": {},
   "source": [
    "## Part 1: How much sand accumulates in steady state?"
   ]
  },
  {
   "cell_type": "code",
   "execution_count": 8,
   "metadata": {},
   "outputs": [
    {
     "data": {
      "text/plain": [
       "885"
      ]
     },
     "execution_count": 8,
     "metadata": {},
     "output_type": "execute_result"
    }
   ],
   "source": [
    "minx = min([j[0] for i in lines for j in i])\n",
    "maxx = max([j[0] for i in lines for j in i])\n",
    "miny = min([j[1] for i in lines for j in i])\n",
    "maxy = max([j[1] for i in lines for j in i])\n",
    "grid, startSand = getGrid(lines, minx, miny, maxx, maxy)\n",
    "\n",
    "dropped = True\n",
    "while(dropped != False):\n",
    "    dropped = drop(grid, startSand)\n",
    "    if(dropped != False): grid[dropped[1], dropped[0]] = 2\n",
    "\n",
    "len([cell for row in grid for cell in row if cell == 2])"
   ]
  },
  {
   "attachments": {},
   "cell_type": "markdown",
   "metadata": {},
   "source": [
    "## Part 2: Stopping up the hole"
   ]
  },
  {
   "cell_type": "code",
   "execution_count": 9,
   "metadata": {},
   "outputs": [
    {
     "data": {
      "text/plain": [
       "28691"
      ]
     },
     "execution_count": 9,
     "metadata": {},
     "output_type": "execute_result"
    }
   ],
   "source": [
    "maxy = max([j[1] for i in lines for j in i]) + 2\n",
    "grid, startSand = getGrid([*lines, [(0, maxy), (1000, maxy)]], 0, miny, 1000, maxy)\n",
    "dropped = True\n",
    "while(dropped != False):\n",
    "    dropped = drop(grid, startSand)\n",
    "    if(dropped != False): grid[dropped[1], dropped[0]] = 2\n",
    "    if(dropped == startSand): dropped = False\n",
    "    \n",
    "len([cell for row in grid for cell in row if cell == 2])"
   ]
  }
 ],
 "metadata": {
  "kernelspec": {
   "display_name": "Python 3",
   "language": "python",
   "name": "python3"
  },
  "language_info": {
   "codemirror_mode": {
    "name": "ipython",
    "version": 3
   },
   "file_extension": ".py",
   "mimetype": "text/x-python",
   "name": "python",
   "nbconvert_exporter": "python",
   "pygments_lexer": "ipython3",
   "version": "3.10.6"
  },
  "orig_nbformat": 4,
  "vscode": {
   "interpreter": {
    "hash": "b0fa6594d8f4cbf19f97940f81e996739fb7646882a419484c72d19e05852a7e"
   }
  }
 },
 "nbformat": 4,
 "nbformat_minor": 2
}
