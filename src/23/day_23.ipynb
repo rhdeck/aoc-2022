{
 "cells": [
  {
   "cell_type": "code",
   "execution_count": 49,
   "metadata": {},
   "outputs": [],
   "source": [
    "test = \"\"\"....#..\n",
    "..###.#\n",
    "#...#.#\n",
    ".#...##\n",
    "#.###..\n",
    "##.#.##\n",
    ".#..#..\"\"\"\n",
    "source = test"
   ]
  },
  {
   "cell_type": "code",
   "execution_count": 50,
   "metadata": {},
   "outputs": [],
   "source": [
    "source = open(\"./day_23.txt\").read()"
   ]
  },
  {
   "cell_type": "code",
   "execution_count": 51,
   "metadata": {},
   "outputs": [],
   "source": [
    "sourceelves = [(coltuple[0], rowTuple[0])  for rowTuple in enumerate(source.splitlines()) for coltuple in enumerate(list(rowTuple[1])) if coltuple[1] == \"#\"]\n",
    "sourceelfpositions = {elf[1]: elf[0] for elf in enumerate(sourceelves)}\n"
   ]
  },
  {
   "cell_type": "code",
   "execution_count": 52,
   "metadata": {},
   "outputs": [],
   "source": [
    "import numpy\n",
    "moves = [(0, -1), (0, 1), (-1, 0), (1, 0)]\n",
    "checks =    [[[1,-1], [0,-1], [-1,-1]], \n",
    "            [[1,1], [0,1], [-1,1]], \n",
    "            [[-1,0], [-1,-1], [-1,1]], \n",
    "            [[1,1], [1,0], [1,-1]]]"
   ]
  },
  {
   "cell_type": "code",
   "execution_count": 53,
   "metadata": {},
   "outputs": [],
   "source": [
    "from matplotlib import pyplot as plt\n",
    "def visualize(elves):\n",
    "    x = [elf[0] for elf in elves]\n",
    "    y = [elf[1] for elf in elves]\n",
    "    plt.scatter(x, y)\n",
    "    plt.show()\n",
    "\n",
    "# visualize(elves)\n",
    "\n",
    "def asciiviz(elves):\n",
    "    x = [elf[0] for elf in elves]\n",
    "    y = [elf[1] for elf in elves]\n",
    "    maxx = max(x)\n",
    "    maxy = max(y)\n",
    "    minx = min(x)\n",
    "    miny = min(y)\n",
    "    for y in range(miny, maxy+1):\n",
    "        for x in range(minx, maxx+1):\n",
    "            if (x,y) in elves:\n",
    "                print(\"#\", end=\"\")\n",
    "            else:\n",
    "                print(\".\", end=\"\")\n",
    "        print(\"\")"
   ]
  },
  {
   "cell_type": "code",
   "execution_count": 54,
   "metadata": {},
   "outputs": [],
   "source": [
    "\n",
    "def doMoves(elves, elfpositions, move=0):\n",
    "    testelves = []\n",
    "    didMove = False\n",
    "    for i, elf in enumerate(elves):\n",
    "        if len([(x,y) for x in [-1,0,1] for y in [-1,0,1] if (x != 0 or y != 0) and elfpositions.get(tuple(numpy.add(elf, (x,y)))) != None]) ==0:\n",
    "            testelves.append(elf)\n",
    "            continue\n",
    "        for index in range(len(checks)):\n",
    "            tests = checks[(index+move) % len(checks)]\n",
    "            found = False\n",
    "            for check in tests:\n",
    "                checkpos = tuple(numpy.add(elf, check))\n",
    "                if elfpositions.get(checkpos) != None:\n",
    "                    found = True\n",
    "                    break;\n",
    "            if(found == False):\n",
    "                testelves.append(tuple(numpy.add(elf, moves[(index+move) % len(checks)])))\n",
    "                didMove = True\n",
    "                break\n",
    "        # What if there are no moves? Just propose itself.\n",
    "        if len(testelves) == i:\n",
    "            testelves.append(elf)\n",
    "    posdict = {}\n",
    "    for elf in testelves: posdict[elf] = posdict.get(elf, 0) + 1\n",
    "    elves = [testelves[i] if posdict[testelves[i]] == 1 else elves[i] for i in range(len(testelves))  ]        \n",
    "    elfpositions = {elf[1]: elf[0] for elf in enumerate(elves)}\n",
    "    return elves, elfpositions, didMove"
   ]
  },
  {
   "attachments": {},
   "cell_type": "markdown",
   "metadata": {},
   "source": [
    "## Part 1: Bounding Rectangls"
   ]
  },
  {
   "cell_type": "code",
   "execution_count": 55,
   "metadata": {},
   "outputs": [
    {
     "name": "stdout",
     "output_type": "stream",
     "text": [
      "Part 1:  3925\n"
     ]
    }
   ],
   "source": [
    "elves = sourceelves.copy()\n",
    "elfpositions = sourceelfpositions.copy()\n",
    "for move in range(10): \n",
    "    elves, elfpositions, didMove = doMoves(elves, elfpositions, move)\n",
    "maxx = max([elf[0] for elf in elves])\n",
    "maxy = max([elf[1] for elf in elves])\n",
    "minx = min([elf[0] for elf in elves])\n",
    "miny = min([elf[1] for elf in elves])\n",
    "area= (maxx-minx+1)*(maxy-miny+1)\n",
    "available = area - len(elves)\n",
    "print(\"Part 1: \", available)"
   ]
  },
  {
   "attachments": {},
   "cell_type": "markdown",
   "metadata": {},
   "source": [
    "## Part 2: I didn't say Simon Says"
   ]
  },
  {
   "cell_type": "code",
   "execution_count": 56,
   "metadata": {},
   "outputs": [
    {
     "name": "stdout",
     "output_type": "stream",
     "text": [
      "Part 2:  903\n"
     ]
    }
   ],
   "source": [
    "elves = sourceelves.copy()\n",
    "elfpositions = sourceelfpositions.copy()\n",
    "didMove = True\n",
    "i = 0\n",
    "while didMove == True:\n",
    "    elves, elfpositions, didMove = doMoves(elves, elfpositions, i)\n",
    "    i += 1\n",
    "    if didMove == False: break\n",
    "\n",
    "print(\"Part 2: \",i)"
   ]
  }
 ],
 "metadata": {
  "kernelspec": {
   "display_name": "Python 3",
   "language": "python",
   "name": "python3"
  },
  "language_info": {
   "codemirror_mode": {
    "name": "ipython",
    "version": 3
   },
   "file_extension": ".py",
   "mimetype": "text/x-python",
   "name": "python",
   "nbconvert_exporter": "python",
   "pygments_lexer": "ipython3",
   "version": "3.10.6"
  },
  "orig_nbformat": 4,
  "vscode": {
   "interpreter": {
    "hash": "b0fa6594d8f4cbf19f97940f81e996739fb7646882a419484c72d19e05852a7e"
   }
  }
 },
 "nbformat": 4,
 "nbformat_minor": 2
}
