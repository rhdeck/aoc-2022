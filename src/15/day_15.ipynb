{
 "cells": [
  {
   "cell_type": "code",
   "execution_count": 15,
   "metadata": {},
   "outputs": [],
   "source": [
    "test=\"\"\"Sensor at x=2, y=18: closest beacon is at x=-2, y=15\n",
    "Sensor at x=9, y=16: closest beacon is at x=10, y=16\n",
    "Sensor at x=13, y=2: closest beacon is at x=15, y=3\n",
    "Sensor at x=12, y=14: closest beacon is at x=10, y=16\n",
    "Sensor at x=10, y=20: closest beacon is at x=10, y=16\n",
    "Sensor at x=14, y=17: closest beacon is at x=10, y=16\n",
    "Sensor at x=8, y=7: closest beacon is at x=2, y=10\n",
    "Sensor at x=2, y=0: closest beacon is at x=2, y=10\n",
    "Sensor at x=0, y=11: closest beacon is at x=2, y=10\n",
    "Sensor at x=20, y=14: closest beacon is at x=25, y=17\n",
    "Sensor at x=17, y=20: closest beacon is at x=21, y=22\n",
    "Sensor at x=16, y=7: closest beacon is at x=15, y=3\n",
    "Sensor at x=14, y=3: closest beacon is at x=15, y=3\n",
    "Sensor at x=20, y=1: closest beacon is at x=15, y=3\"\"\"\n",
    "\n",
    "source=test\n",
    "targetrow = 10\n",
    "maxgrid=20"
   ]
  },
  {
   "cell_type": "code",
   "execution_count": 16,
   "metadata": {},
   "outputs": [],
   "source": [
    "source = open(\"./day_15.txt\").read()\n",
    "targetrow = 2000000\n",
    "maxgrid= 4000000"
   ]
  },
  {
   "cell_type": "code",
   "execution_count": 17,
   "metadata": {},
   "outputs": [],
   "source": [
    "import numpy\n",
    "import math\n",
    "#[[item.split(\"at \")[-1] for item in l.split(\": \")] for l in source.splitlines()]\n",
    "pairs = [[[int(i.split(\"=\")[-1]) for i in item.split(\"at \")[-1].split(\", \")] for item in l.split(\": \")] for l in source.splitlines()]\n",
    "allcoords = [item for sublist in pairs for item in sublist]\n",
    "sensors = numpy.array(pairs)[:,0]\n",
    "# pairs"
   ]
  },
  {
   "cell_type": "code",
   "execution_count": 18,
   "metadata": {},
   "outputs": [],
   "source": [
    "def md(a,b):\n",
    "    return abs(a[0]-b[0])+abs(a[1]-b[1])\n",
    "\n",
    "mds = [md(*pair) for pair in pairs]\n",
    "\n",
    "\n",
    "# mds"
   ]
  },
  {
   "cell_type": "code",
   "execution_count": 19,
   "metadata": {},
   "outputs": [
    {
     "data": {
      "text/plain": [
       "(-1010425, -85030, 4823751, 3997568)"
      ]
     },
     "execution_count": 19,
     "metadata": {},
     "output_type": "execute_result"
    }
   ],
   "source": [
    "\n",
    "\n",
    "minx = min([item[0] for item in allcoords])\n",
    "miny = min([item[1] for item in allcoords])\n",
    "maxx = max([item[0] for item in allcoords])\n",
    "maxy = max([item[1] for item in allcoords])\n",
    "\n",
    "minx, miny, maxx, maxy"
   ]
  },
  {
   "attachments": {},
   "cell_type": "markdown",
   "metadata": {},
   "source": [
    "## Part 1: How filled is the line"
   ]
  },
  {
   "cell_type": "code",
   "execution_count": 20,
   "metadata": {},
   "outputs": [
    {
     "data": {
      "text/plain": [
       "4879972"
      ]
     },
     "execution_count": 20,
     "metadata": {},
     "output_type": "execute_result"
    }
   ],
   "source": [
    "def strline(line):\n",
    "    return \"\".join([\"#\" if item==1 else \"S\" if item == 2 else \".\" for item in line])\n",
    "def printline(line):\n",
    "    print(strline(line))\n",
    "\n",
    "def linemd(ly, pairs, distances, minx, maxx):\n",
    "    # print(\"Working line {}\".format(ly))\n",
    "    line = numpy.zeros(maxx-minx++1)\n",
    "    for i, pair in enumerate(pairs):\n",
    "        x,y = pair\n",
    "        distance = distances[i]\n",
    "        ldistance = abs(y - ly)\n",
    "        xdelta = distance - ldistance\n",
    "        if(y == ly):\n",
    "            line[x-minx] = 2\n",
    "        if xdelta < 0:\n",
    "            xdelta = -1\n",
    "        elif xdelta == 0:\n",
    "             line[x-minx] = 1\n",
    "        else:\n",
    "            xmin = x - xdelta\n",
    "            xmax = x + xdelta\n",
    "            #flip the bit\n",
    "            for j in range(xmin, xmax):\n",
    "                if j<minx or j>maxx: continue\n",
    "                if line[j-minx] == 0: line[j-minx] = 1\n",
    "    return line\n",
    "\n",
    "line = linemd(targetrow, sensors, mds, minx-maxx, maxx*2)\n",
    "\n",
    "# print(len(line))\n",
    "# printline(line)\n",
    "filled = len([cell for cell in line if cell>0])\n",
    "filled"
   ]
  },
  {
   "attachments": {},
   "cell_type": "markdown",
   "metadata": {},
   "source": [
    "## Part 2: The one and only slot"
   ]
  },
  {
   "cell_type": "code",
   "execution_count": 21,
   "metadata": {},
   "outputs": [
    {
     "name": "stdout",
     "output_type": "stream",
     "text": [
      "12525726647448\n"
     ]
    }
   ],
   "source": [
    "winner = None\n",
    "for i in range(len(sensors)):\n",
    "    sensor = sensors[i]\n",
    "    distance = mds[i]\n",
    "    debug = sensor[0] == 14\n",
    "    if debug: print(\"Checking sensor {} with distance {}\".format(sensor, distance))\n",
    "    # look around the sensor\n",
    "    for x in range(sensor[0]-distance-1, sensor[0]+distance+1):\n",
    "        if x < 0 or x > maxgrid: continue\n",
    "        yrange = abs(sensor[0] - x) - (distance+1)\n",
    "        if(debug): print(\"Checking x {} with yrange {}\".format(x, yrange))\n",
    "        #check above and below\n",
    "        possibles = [[x, sensor[1]+yrange], [x, sensor[1]-yrange]]\n",
    "        if debug: print(\"Checking possibles  {}\".format(possibles))\n",
    "        for possible in possibles:\n",
    "            if(possible[1] < 0 or possible[1] > maxgrid): continue\n",
    "            if debug and possible[0] == 14: print(\"Checking possible on my row {}\".format(possible))\n",
    "            overlap = False\n",
    "            for others in range(i+1,len(sensors)):\n",
    "                otherdistance = mds[others]\n",
    "                othersensor = sensors[others]\n",
    "                if md(othersensor,possible) <= otherdistance:\n",
    "                    overlap = True\n",
    "                    break\n",
    "            if overlap == False :\n",
    "                winner = possible\n",
    "                break;\n",
    "        if winner != None: break\n",
    "    if winner != None: break\n",
    "if(winner != None):\n",
    "    score = winner[0]*4000000 + winner[1]\n",
    "    print(score)"
   ]
  }
 ],
 "metadata": {
  "kernelspec": {
   "display_name": "Python 3",
   "language": "python",
   "name": "python3"
  },
  "language_info": {
   "codemirror_mode": {
    "name": "ipython",
    "version": 3
   },
   "file_extension": ".py",
   "mimetype": "text/x-python",
   "name": "python",
   "nbconvert_exporter": "python",
   "pygments_lexer": "ipython3",
   "version": "3.10.6"
  },
  "orig_nbformat": 4,
  "vscode": {
   "interpreter": {
    "hash": "b0fa6594d8f4cbf19f97940f81e996739fb7646882a419484c72d19e05852a7e"
   }
  }
 },
 "nbformat": 4,
 "nbformat_minor": 2
}
