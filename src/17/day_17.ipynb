{
 "cells": [
  {
   "cell_type": "code",
   "execution_count": 234,
   "metadata": {},
   "outputs": [],
   "source": [
    "test = \"\"\">>><<><>><<<>><>>><<<>>><<<><<<>><>><<>>\"\"\"\n",
    "source = test"
   ]
  },
  {
   "cell_type": "code",
   "execution_count": 235,
   "metadata": {},
   "outputs": [],
   "source": [
    "source = open(\"./day_17.txt\").read()"
   ]
  },
  {
   "cell_type": "code",
   "execution_count": 236,
   "metadata": {},
   "outputs": [],
   "source": [
    "block_source = \"\"\"####\n",
    "\n",
    ".#.\n",
    "###\n",
    ".#.\n",
    "\n",
    "..#\n",
    "..#\n",
    "###\n",
    "\n",
    "#\n",
    "#\n",
    "#\n",
    "#\n",
    "\n",
    "##\n",
    "##\n",
    "\"\"\""
   ]
  },
  {
   "cell_type": "code",
   "execution_count": 237,
   "metadata": {},
   "outputs": [],
   "source": [
    "def row_to_int(row, buffer = \"\"):\n",
    "    return int(\"\".join([\"0\" if c == \".\" else \"1\" for c in list(row)][::-1])+buffer,2)"
   ]
  },
  {
   "cell_type": "code",
   "execution_count": 238,
   "metadata": {},
   "outputs": [],
   "source": [
    "blocks = []\n",
    "for block in [b.splitlines() for b in block_source.split(\"\\n\\n\")]:\n",
    "    block.reverse()\n",
    "    blocks.append([row_to_int(b, \"000\") for b in block])\n",
    "\n",
    "def visualize_row(b):\n",
    "    return bin(b)[2:][::-1].replace(\"0\",\" \").replace(\"1\",\"#\")\n",
    "    \n",
    "def visualize_block(block):\n",
    "    print(\"\\n\".join([visualize_row(b) for b in block]))"
   ]
  },
  {
   "cell_type": "code",
   "execution_count": 239,
   "metadata": {},
   "outputs": [],
   "source": [
    "winds =  list(source)"
   ]
  },
  {
   "cell_type": "code",
   "execution_count": 240,
   "metadata": {},
   "outputs": [],
   "source": [
    "import math\n",
    "def falling_blocks(blocks,  blocklength, rows, blockOffset = 0, turnOffset = 0):\n",
    "    defaultRow = row_to_int(\"#.......#\")\n",
    "    turn = 0\n",
    "    mergeRow = False\n",
    "    heights = []\n",
    "    tails = []\n",
    "    for i in range(blocklength):\n",
    "        block = blocks[(i + blockOffset) % len(blocks)]\n",
    "        height = len(rows) + 3\n",
    "        stopped = False\n",
    "        while stopped == False:\n",
    "            if(winds[(turn+turnOffset) % len(winds)] == \"<\"): test =[row >> 1 for row in block]\n",
    "            else: test =[row << 1 for row in block]\n",
    "            testRows = []\n",
    "            for j in range(len(block)):\n",
    "                if(j + height >= len(rows)): testRows.append(defaultRow)\n",
    "                else: testRows.append(rows[j+height])\n",
    "            v = sum([testRows[i] & test[i] for i in range(len(test))])\n",
    "            if(v ==0): block = test\n",
    "            testRows = []\n",
    "            for j in range(len(block)):\n",
    "                if(j+height-1 >= len(rows)): testRows.append(defaultRow)\n",
    "                else: testRows.append(rows[j+height-1])\n",
    "            v = sum([testRows[i] & block[i] for i in range(len(block))])\n",
    "            if(v ==0): height -=1\n",
    "            else: \n",
    "                mergeRow = False\n",
    "                for j in range(len(block)):\n",
    "                    if(j+height >= len(rows)): rows.append(defaultRow)\n",
    "                    else: mergeRow = True\n",
    "                    rows[j+height] = rows[j+height] | block[j]\n",
    "                stopped = True\n",
    "                heights.append(len(rows))\n",
    "                tails.append(\"\".join([chr(c) for c in rows[-100:]]))\n",
    "            turn += 1   \n",
    "    return rows, i, heights, tails\n"
   ]
  },
  {
   "cell_type": "markdown",
   "metadata": {},
   "source": [
    "## Part 1: Year Blocks"
   ]
  },
  {
   "cell_type": "code",
   "execution_count": 241,
   "metadata": {},
   "outputs": [
    {
     "data": {
      "text/plain": [
       "3157"
      ]
     },
     "execution_count": 241,
     "metadata": {},
     "output_type": "execute_result"
    }
   ],
   "source": [
    "rows,i, j, k = falling_blocks(blocks, 2022, [row_to_int(\"#########\")])\n",
    "len(rows)-1\n"
   ]
  },
  {
   "attachments": {},
   "cell_type": "markdown",
   "metadata": {},
   "source": [
    "## Part 2: Road to Elon Musk Wealth"
   ]
  },
  {
   "cell_type": "code",
   "execution_count": 242,
   "metadata": {},
   "outputs": [],
   "source": [
    "import math\n",
    "rows, count, heights, tails =  falling_blocks(blocks, len(blocks) * len(winds) * 2, [row_to_int(\"#########\")])\n",
    "a,b,repeater,original,e,f = next(((heights[i]), (heights[j]), i, j, (heights[i])- (heights[j]), i- j) for j in range(math.floor(len(heights)/2)) for i in range(math.floor(len(heights)/2),len(heights)) if tails[i] == tails[j] and i != j)"
   ]
  },
  {
   "cell_type": "code",
   "execution_count": 243,
   "metadata": {},
   "outputs": [
    {
     "name": "stdout",
     "output_type": "stream",
     "text": [
      "1581449275319\n"
     ]
    }
   ],
   "source": [
    "repeats = math.floor((1e12 - original) / (repeater - original))\n",
    "baseHeight = repeats*(heights[repeater]-heights[original]) + heights[original]\n",
    "turns = repeats*(repeater-original) + original\n",
    "turnsleft = int(1e12 - turns)\n",
    "windpos = int(turns % len(winds))\n",
    "blockpos = int(turns % len(blocks))\n",
    "startingGrid = list(ord(i) for i in tails[repeater])\n",
    "rows,b,c,d = falling_blocks(blocks, turnsleft,startingGrid, blockpos, windpos)\n",
    "totalHeight = len(rows) -99 + baseHeight\n",
    "print(totalHeight)"
   ]
  }
 ],
 "metadata": {
  "kernelspec": {
   "display_name": "Python 3",
   "language": "python",
   "name": "python3"
  },
  "language_info": {
   "codemirror_mode": {
    "name": "ipython",
    "version": 3
   },
   "file_extension": ".py",
   "mimetype": "text/x-python",
   "name": "python",
   "nbconvert_exporter": "python",
   "pygments_lexer": "ipython3",
   "version": "3.10.6"
  },
  "orig_nbformat": 4,
  "vscode": {
   "interpreter": {
    "hash": "b0fa6594d8f4cbf19f97940f81e996739fb7646882a419484c72d19e05852a7e"
   }
  }
 },
 "nbformat": 4,
 "nbformat_minor": 2
}
