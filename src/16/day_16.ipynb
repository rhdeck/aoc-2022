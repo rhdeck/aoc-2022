{
 "cells": [
  {
   "cell_type": "code",
   "execution_count": 1,
   "metadata": {},
   "outputs": [],
   "source": [
    "test = \"\"\"Valve AA has flow rate=0; tunnels lead to valves DD, II, BB\n",
    "Valve BB has flow rate=13; tunnels lead to valves CC, AA\n",
    "Valve CC has flow rate=2; tunnels lead to valves DD, BB\n",
    "Valve DD has flow rate=20; tunnels lead to valves CC, AA, EE\n",
    "Valve EE has flow rate=3; tunnels lead to valves FF, DD\n",
    "Valve FF has flow rate=0; tunnels lead to valves EE, GG\n",
    "Valve GG has flow rate=0; tunnels lead to valves FF, HH\n",
    "Valve HH has flow rate=22; tunnel leads to valve GG\n",
    "Valve II has flow rate=0; tunnels lead to valves AA, JJ\n",
    "Valve JJ has flow rate=21; tunnel leads to valve II\"\"\"\n",
    "source = test"
   ]
  },
  {
   "cell_type": "code",
   "execution_count": 2,
   "metadata": {},
   "outputs": [],
   "source": [
    "source = open(\"./day_16.txt\").read()"
   ]
  },
  {
   "cell_type": "code",
   "execution_count": 3,
   "metadata": {},
   "outputs": [],
   "source": [
    "class Valve:\n",
    "    valves = {}\n",
    "    def __init__(self, name, flow_rate, tunnels):\n",
    "        self.name = name\n",
    "        self.flow_rate = flow_rate\n",
    "        self.tunnels = tunnels\n",
    "        self.valves[name] = self\n",
    "        self.distances = {}\n",
    "    def tostring(self):\n",
    "        return f\"{self.name} has flow rate={self.flow_rate}; tunnels lead to valves {' - '.join(self.tunnels)}\"\n",
    "    def paths(self, valve=None, distance=0):        \n",
    "        if(valve == None):\n",
    "            for t in self.tunnels:\n",
    "                self.distances[t] = 1\n",
    "                self.paths(self.valves[t], distance+1)\n",
    "        else:\n",
    "            dist = self.distances.get(valve.name)\n",
    "            if(dist == None or dist >= distance):\n",
    "                self.distances[valve.name] = distance;\n",
    "                for t in [t for t in valve.tunnels if t != self.name ]:\n",
    "                    self.paths(self.valves[t], distance+1)"
   ]
  },
  {
   "cell_type": "code",
   "execution_count": 4,
   "metadata": {},
   "outputs": [],
   "source": [
    "for line in source.splitlines():\n",
    "    words = line.split(\" \")\n",
    "    if words[0] == \"Valve\":\n",
    "        name = words[1]\n",
    "        flow = int(words[4].split(\"=\")[1].split(\";\")[0])\n",
    "        tunnels = [w.strip() for w in \" \".join(words[9:]).split(\", \")]\n",
    "        Valve(name, flow, tunnels)\n",
    "for valve in Valve.valves.values(): valve.paths()"
   ]
  },
  {
   "cell_type": "code",
   "execution_count": 5,
   "metadata": {},
   "outputs": [
    {
     "name": "stdout",
     "output_type": "stream",
     "text": [
      "['OQ', 'PD', 'TN', 'SM', 'KX', 'IR', 'BC', 'HR', 'HX', 'BV', 'JQ', 'OF', 'SG', 'FN', 'ZX']\n"
     ]
    }
   ],
   "source": [
    "goodValves = [v for v in Valve.valves.values() if v.flow_rate > 0]\n",
    "print([v.name for v in goodValves])"
   ]
  },
  {
   "attachments": {},
   "cell_type": "markdown",
   "metadata": {},
   "source": [
    "## Part 1: Turning valves solo"
   ]
  },
  {
   "cell_type": "code",
   "execution_count": 6,
   "metadata": {},
   "outputs": [
    {
     "name": "stdout",
     "output_type": "stream",
     "text": [
      "1796 ['AA', 'BC', 'OF', 'OQ', 'TN', 'BV', 'HR', 'PD']\n"
     ]
    }
   ],
   "source": [
    "turnsleft = 30\n",
    "position = \"AA\"\n",
    "goodValves = [v for v in Valve.valves.values() if v.flow_rate > 0]\n",
    "class Scores:\n",
    "    def __init__(self):\n",
    "        self.maxScore = 0\n",
    "        self.maxPath = []\n",
    "        self.paths = []\n",
    "    def getScore(cls, goodValves, turnsleft, position, score, thisPath = []):\n",
    "        score += Valve.valves[position].flow_rate * turnsleft\n",
    "        if(turnsleft < 0): return\n",
    "        cls.paths.append({\"path\": thisPath + [position], \"score\": score})\n",
    "        if(score > cls.maxScore): \n",
    "            cls.maxScore = score\n",
    "            cls.maxPath = thisPath\n",
    "        for nextValve in goodValves:\n",
    "            remainingpaths = [v for v in goodValves if v.name != nextValve.name]\n",
    "            thisTurnsLeft = turnsleft - Valve.valves[Valve.valves[position].name].distances[nextValve.name]-1\n",
    "            cls.getScore(remainingpaths, thisTurnsLeft, nextValve.name, score, thisPath + [position])\n",
    "score = Scores()\n",
    "score.getScore(goodValves, turnsleft, position, 0)\n",
    "print(score.maxScore, score.maxPath)"
   ]
  },
  {
   "attachments": {},
   "cell_type": "markdown",
   "metadata": {},
   "source": [
    "## Part 2: Pachyderm panic!"
   ]
  },
  {
   "cell_type": "code",
   "execution_count": 7,
   "metadata": {},
   "outputs": [
    {
     "data": {
      "text/plain": [
       "(1999,\n",
       " [['AA', 'BC', 'SG', 'PD', 'FN'],\n",
       "  ['AA', 'HX', 'OF', 'OQ', 'TN', 'BV', 'HR', 'JQ']])"
      ]
     },
     "execution_count": 7,
     "metadata": {},
     "output_type": "execute_result"
    }
   ],
   "source": [
    "score = Scores()\n",
    "score.getScore(goodValves, 26, \"AA\", 0)\n",
    "for path in score.paths: path[\"hash\"] = \",\".join(path[\"path\"])\n",
    "bestPaths = []\n",
    "maxScore = 0\n",
    "for path in score.paths:\n",
    "    for path2 in score.paths:\n",
    "        if len([p for p in path2[\"path\"] if p in path[\"path\"]]) == 1 and path[\"hash\"] < path2[\"hash\"]:\n",
    "            comboScore = path[\"score\"] + path2[\"score\"]\n",
    "            if(comboScore > maxScore):\n",
    "                maxScore = comboScore\n",
    "                bestPaths = [path[\"path\"], path2[\"path\"]]\n",
    "maxScore, bestPaths"
   ]
  }
 ],
 "metadata": {
  "kernelspec": {
   "display_name": "Python 3",
   "language": "python",
   "name": "python3"
  },
  "language_info": {
   "codemirror_mode": {
    "name": "ipython",
    "version": 3
   },
   "file_extension": ".py",
   "mimetype": "text/x-python",
   "name": "python",
   "nbconvert_exporter": "python",
   "pygments_lexer": "ipython3",
   "version": "3.10.6"
  },
  "orig_nbformat": 4,
  "vscode": {
   "interpreter": {
    "hash": "b0fa6594d8f4cbf19f97940f81e996739fb7646882a419484c72d19e05852a7e"
   }
  }
 },
 "nbformat": 4,
 "nbformat_minor": 2
}
